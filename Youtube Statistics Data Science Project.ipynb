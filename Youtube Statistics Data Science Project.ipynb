{
 "cells": [
  {
   "cell_type": "markdown",
   "metadata": {
    "cell_id": "21db80b918b24c8db3644135ce7157f6",
    "deepnote_cell_type": "markdown"
   },
   "source": [
    "# **Youtube Video Statistics Data Science Project 📹📊**"
   ]
  },
  {
   "cell_type": "markdown",
   "metadata": {
    "cell_id": "4b3d6a1c16224eef96a210cdcf64c097",
    "deepnote_cell_type": "markdown"
   },
   "source": [
    "#### **Group Members:** Adam Brenner, Fred Baldwin, Nicolo Ruffini"
   ]
  },
  {
   "cell_type": "markdown",
   "metadata": {
    "cell_id": "cfb5c0b06afc401e8616ab6edb2f9abf",
    "deepnote_cell_type": "markdown"
   },
   "source": [
    "<div>\n",
    "<img src=\"https://upload.wikimedia.org/wikipedia/commons/3/34/YouTube_logo_%282017%29.png\"\n",
    "width=500/>\n",
    "</div>"
   ]
  },
  {
   "cell_type": "markdown",
   "metadata": {
    "cell_id": "9a04da9210e949638256118805500b5b",
    "deepnote_cell_type": "markdown"
   },
   "source": [
    "## About Dataset\n",
    "\n",
    "This dataset contains two files with statistics on 1,881 YouTube videos and their comments.\n",
    "\n",
    "#### video-stats.csv\n",
    "\n",
    "* **Title:** Video Title\n",
    "* **Video ID:** The Video Identifier.\n",
    "* **Published At:** The date the video was published in YYYY-MM-DD.\n",
    "* **Keyword:** The keyword associated with the video.\n",
    "* **Likes:** The number of likes the video received. If this value is -1, the likes are not publicly visible.\n",
    "* **Comments:** The number of comments the video has. If this value is -1, the video creator has disabled comments.\n",
    "* **Views:** The number of views the video got.\n",
    "\n",
    "#### comments.csv:\n",
    "\n",
    "* **Video ID:** The Video Identifier.\n",
    "* **Comment:** The comment text.\n",
    "* **Likes:** The number of likes the comment received.\n",
    "* **Sentiment:** The sentiment of the comment. A value of 0 represents a negative sentiment, while values of 1 or 2 represent neutral and positive sentiments respectively.\n"
   ]
  },
  {
   "cell_type": "markdown",
   "metadata": {
    "cell_id": "ad488ca0abac417cbb90e43d2f8227c8",
    "deepnote_cell_type": "markdown"
   },
   "source": [
    "## Purpose\n",
    "The purpose of analyzing this dataset was to explore what makes a \"good\" video and see if we could predict whether a video performed well or poorly based on its video and comment statistics. A good video and a bad video were determined besed upon its like to view ratio (`like_conversion_rate`). We thought this would be the best way to determine the quality of the video because it does depend on viral status or high view count to determine the quality of the video. Before we began the project we knew we would have some limitations with the dataset and would need more metrics to fit an accurate model. For example, we knew that you can only like a video once where as you can watch the video multiple times. With that being said, another one of our goals was to be able to add features that are highly correlated to `like_conversion_rate` to the dataset that would help improve the overall accuracy of our model and assist in determining what is a good, nuetral, or bad video.\n",
    "\n",
    "\n"
   ]
  },
  {
   "cell_type": "markdown",
   "metadata": {
    "cell_id": "5f86fc70e076421a89fc41b0161030b8",
    "deepnote_cell_type": "markdown",
    "tags": []
   },
   "source": [
    "# <div style='color:white;background-color:#FF0000;padding:10px 20px;font-size:25px;font-weight:bold'>Importing Libraries</div>"
   ]
  },
  {
   "cell_type": "code",
   "execution_count": 1,
   "metadata": {
    "cell_id": "fb3ce6a140904171b412f5ef679b720b",
    "deepnote_cell_type": "code",
    "deepnote_to_be_reexecuted": false,
    "execution_millis": 3645,
    "execution_start": 1669893711339,
    "source_hash": "59e78dd",
    "tags": []
   },
   "outputs": [
    {
     "name": "stderr",
     "output_type": "stream",
     "text": [
      "[nltk_data] Downloading package stopwords to\n",
      "[nltk_data]     /Users/adambrenner/nltk_data...\n",
      "[nltk_data]   Package stopwords is already up-to-date!\n",
      "[nltk_data] Downloading package vader_lexicon to\n",
      "[nltk_data]     /Users/adambrenner/nltk_data...\n",
      "[nltk_data]   Package vader_lexicon is already up-to-date!\n"
     ]
    },
    {
     "data": {
      "text/plain": [
       "True"
      ]
     },
     "execution_count": 1,
     "metadata": {},
     "output_type": "execute_result"
    }
   ],
   "source": [
    "import pandas as pd\n",
    "import seaborn as sns\n",
    "import numpy as np\n",
    "import matplotlib as plt\n",
    "import datetime as dt\n",
    "import matplotlib.pyplot as plt\n",
    "from matplotlib.pyplot import figure\n",
    "import warnings\n",
    "warnings.filterwarnings('ignore')\n",
    "\n",
    "import nltk\n",
    "from nltk.corpus import stopwords\n",
    "from nltk.sentiment.vader import SentimentIntensityAnalyzer\n",
    "nltk.download('stopwords')\n",
    "nltk.download('vader_lexicon')"
   ]
  },
  {
   "cell_type": "markdown",
   "metadata": {
    "cell_id": "aa58aee1d57847d48a53f0ba083cb649",
    "deepnote_cell_type": "markdown",
    "tags": []
   },
   "source": [
    "# <div style='color:white;background-color:#FF0000;padding:10px 20px;font-size:25px;font-weight:bold'>Loading & Descibing Datasets</div>"
   ]
  },
  {
   "cell_type": "code",
   "execution_count": 2,
   "metadata": {
    "cell_id": "53bd3187a7a7448aafab9872ca643d06",
    "deepnote_cell_type": "code",
    "deepnote_to_be_reexecuted": false,
    "execution_millis": 58,
    "execution_start": 1669893713978,
    "source_hash": "177dd74c",
    "tags": []
   },
   "outputs": [],
   "source": [
    "videos = pd.read_csv(\"videos-stats.csv\")\n",
    "comments = pd.read_csv(\"comments.csv\")"
   ]
  },
  {
   "cell_type": "code",
   "execution_count": 3,
   "metadata": {
    "cell_id": "1be961e6ca8d42b59c373e21468441da",
    "deepnote_cell_type": "code",
    "deepnote_to_be_reexecuted": false,
    "execution_millis": 946,
    "execution_start": 1669893714038,
    "source_hash": "34386b04",
    "tags": []
   },
   "outputs": [
    {
     "data": {
      "text/html": [
       "<div>\n",
       "<style scoped>\n",
       "    .dataframe tbody tr th:only-of-type {\n",
       "        vertical-align: middle;\n",
       "    }\n",
       "\n",
       "    .dataframe tbody tr th {\n",
       "        vertical-align: top;\n",
       "    }\n",
       "\n",
       "    .dataframe thead th {\n",
       "        text-align: right;\n",
       "    }\n",
       "</style>\n",
       "<table border=\"1\" class=\"dataframe\">\n",
       "  <thead>\n",
       "    <tr style=\"text-align: right;\">\n",
       "      <th></th>\n",
       "      <th>Unnamed: 0</th>\n",
       "      <th>Title</th>\n",
       "      <th>Video ID</th>\n",
       "      <th>Published At</th>\n",
       "      <th>Keyword</th>\n",
       "      <th>Likes</th>\n",
       "      <th>Comments</th>\n",
       "      <th>Views</th>\n",
       "    </tr>\n",
       "  </thead>\n",
       "  <tbody>\n",
       "    <tr>\n",
       "      <th>0</th>\n",
       "      <td>0</td>\n",
       "      <td>Apple Pay Is Killing the Physical Wallet After...</td>\n",
       "      <td>wAZZ-UWGVHI</td>\n",
       "      <td>2022-08-23</td>\n",
       "      <td>tech</td>\n",
       "      <td>3407.0</td>\n",
       "      <td>672.0</td>\n",
       "      <td>135612.0</td>\n",
       "    </tr>\n",
       "    <tr>\n",
       "      <th>1</th>\n",
       "      <td>1</td>\n",
       "      <td>The most EXPENSIVE thing I own.</td>\n",
       "      <td>b3x28s61q3c</td>\n",
       "      <td>2022-08-24</td>\n",
       "      <td>tech</td>\n",
       "      <td>76779.0</td>\n",
       "      <td>4306.0</td>\n",
       "      <td>1758063.0</td>\n",
       "    </tr>\n",
       "    <tr>\n",
       "      <th>2</th>\n",
       "      <td>2</td>\n",
       "      <td>My New House Gaming Setup is SICK!</td>\n",
       "      <td>4mgePWWCAmA</td>\n",
       "      <td>2022-08-23</td>\n",
       "      <td>tech</td>\n",
       "      <td>63825.0</td>\n",
       "      <td>3338.0</td>\n",
       "      <td>1564007.0</td>\n",
       "    </tr>\n",
       "    <tr>\n",
       "      <th>3</th>\n",
       "      <td>3</td>\n",
       "      <td>Petrol Vs Liquid Nitrogen | Freezing Experimen...</td>\n",
       "      <td>kXiYSI7H2b0</td>\n",
       "      <td>2022-08-23</td>\n",
       "      <td>tech</td>\n",
       "      <td>71566.0</td>\n",
       "      <td>1426.0</td>\n",
       "      <td>922918.0</td>\n",
       "    </tr>\n",
       "    <tr>\n",
       "      <th>4</th>\n",
       "      <td>4</td>\n",
       "      <td>Best Back to School Tech 2022!</td>\n",
       "      <td>ErMwWXQxHp0</td>\n",
       "      <td>2022-08-08</td>\n",
       "      <td>tech</td>\n",
       "      <td>96513.0</td>\n",
       "      <td>5155.0</td>\n",
       "      <td>1855644.0</td>\n",
       "    </tr>\n",
       "  </tbody>\n",
       "</table>\n",
       "</div>"
      ],
      "text/plain": [
       "   Unnamed: 0                                              Title     Video ID  \\\n",
       "0           0  Apple Pay Is Killing the Physical Wallet After...  wAZZ-UWGVHI   \n",
       "1           1                    The most EXPENSIVE thing I own.  b3x28s61q3c   \n",
       "2           2                 My New House Gaming Setup is SICK!  4mgePWWCAmA   \n",
       "3           3  Petrol Vs Liquid Nitrogen | Freezing Experimen...  kXiYSI7H2b0   \n",
       "4           4                     Best Back to School Tech 2022!  ErMwWXQxHp0   \n",
       "\n",
       "  Published At Keyword    Likes  Comments      Views  \n",
       "0   2022-08-23    tech   3407.0     672.0   135612.0  \n",
       "1   2022-08-24    tech  76779.0    4306.0  1758063.0  \n",
       "2   2022-08-23    tech  63825.0    3338.0  1564007.0  \n",
       "3   2022-08-23    tech  71566.0    1426.0   922918.0  \n",
       "4   2022-08-08    tech  96513.0    5155.0  1855644.0  "
      ]
     },
     "execution_count": 3,
     "metadata": {},
     "output_type": "execute_result"
    }
   ],
   "source": [
    "videos.head()"
   ]
  },
  {
   "cell_type": "code",
   "execution_count": 4,
   "metadata": {
    "cell_id": "7e95742862ee402bba4637891bcf41cf",
    "deepnote_cell_type": "code",
    "deepnote_to_be_reexecuted": false,
    "execution_millis": 871,
    "execution_start": 1669893714114,
    "source_hash": "9a5110ac",
    "tags": []
   },
   "outputs": [
    {
     "data": {
      "text/html": [
       "<div>\n",
       "<style scoped>\n",
       "    .dataframe tbody tr th:only-of-type {\n",
       "        vertical-align: middle;\n",
       "    }\n",
       "\n",
       "    .dataframe tbody tr th {\n",
       "        vertical-align: top;\n",
       "    }\n",
       "\n",
       "    .dataframe thead th {\n",
       "        text-align: right;\n",
       "    }\n",
       "</style>\n",
       "<table border=\"1\" class=\"dataframe\">\n",
       "  <thead>\n",
       "    <tr style=\"text-align: right;\">\n",
       "      <th></th>\n",
       "      <th>Unnamed: 0</th>\n",
       "      <th>Video ID</th>\n",
       "      <th>Comment</th>\n",
       "      <th>Likes</th>\n",
       "      <th>Sentiment</th>\n",
       "    </tr>\n",
       "  </thead>\n",
       "  <tbody>\n",
       "    <tr>\n",
       "      <th>0</th>\n",
       "      <td>0</td>\n",
       "      <td>wAZZ-UWGVHI</td>\n",
       "      <td>Let's not forget that Apple Pay in 2014 requir...</td>\n",
       "      <td>95.0</td>\n",
       "      <td>1.0</td>\n",
       "    </tr>\n",
       "    <tr>\n",
       "      <th>1</th>\n",
       "      <td>1</td>\n",
       "      <td>wAZZ-UWGVHI</td>\n",
       "      <td>Here in NZ 50% of retailers don’t even have co...</td>\n",
       "      <td>19.0</td>\n",
       "      <td>0.0</td>\n",
       "    </tr>\n",
       "    <tr>\n",
       "      <th>2</th>\n",
       "      <td>2</td>\n",
       "      <td>wAZZ-UWGVHI</td>\n",
       "      <td>I will forever acknowledge this channel with t...</td>\n",
       "      <td>161.0</td>\n",
       "      <td>2.0</td>\n",
       "    </tr>\n",
       "    <tr>\n",
       "      <th>3</th>\n",
       "      <td>3</td>\n",
       "      <td>wAZZ-UWGVHI</td>\n",
       "      <td>Whenever I go to a place that doesn’t take App...</td>\n",
       "      <td>8.0</td>\n",
       "      <td>0.0</td>\n",
       "    </tr>\n",
       "    <tr>\n",
       "      <th>4</th>\n",
       "      <td>4</td>\n",
       "      <td>wAZZ-UWGVHI</td>\n",
       "      <td>Apple Pay is so convenient, secure, and easy t...</td>\n",
       "      <td>34.0</td>\n",
       "      <td>2.0</td>\n",
       "    </tr>\n",
       "  </tbody>\n",
       "</table>\n",
       "</div>"
      ],
      "text/plain": [
       "   Unnamed: 0     Video ID                                            Comment  \\\n",
       "0           0  wAZZ-UWGVHI  Let's not forget that Apple Pay in 2014 requir...   \n",
       "1           1  wAZZ-UWGVHI  Here in NZ 50% of retailers don’t even have co...   \n",
       "2           2  wAZZ-UWGVHI  I will forever acknowledge this channel with t...   \n",
       "3           3  wAZZ-UWGVHI  Whenever I go to a place that doesn’t take App...   \n",
       "4           4  wAZZ-UWGVHI  Apple Pay is so convenient, secure, and easy t...   \n",
       "\n",
       "   Likes  Sentiment  \n",
       "0   95.0        1.0  \n",
       "1   19.0        0.0  \n",
       "2  161.0        2.0  \n",
       "3    8.0        0.0  \n",
       "4   34.0        2.0  "
      ]
     },
     "execution_count": 4,
     "metadata": {},
     "output_type": "execute_result"
    }
   ],
   "source": [
    "comments.head()"
   ]
  },
  {
   "cell_type": "code",
   "execution_count": 5,
   "metadata": {
    "cell_id": "42c2b1677625415fa62621fa1a96473c",
    "deepnote_cell_type": "code",
    "deepnote_to_be_reexecuted": false,
    "execution_millis": 865,
    "execution_start": 1669893714120,
    "source_hash": "160ee2fa",
    "tags": []
   },
   "outputs": [
    {
     "data": {
      "text/html": [
       "<div>\n",
       "<style scoped>\n",
       "    .dataframe tbody tr th:only-of-type {\n",
       "        vertical-align: middle;\n",
       "    }\n",
       "\n",
       "    .dataframe tbody tr th {\n",
       "        vertical-align: top;\n",
       "    }\n",
       "\n",
       "    .dataframe thead th {\n",
       "        text-align: right;\n",
       "    }\n",
       "</style>\n",
       "<table border=\"1\" class=\"dataframe\">\n",
       "  <thead>\n",
       "    <tr style=\"text-align: right;\">\n",
       "      <th></th>\n",
       "      <th>Unnamed: 0</th>\n",
       "      <th>Likes</th>\n",
       "      <th>Comments</th>\n",
       "      <th>Views</th>\n",
       "    </tr>\n",
       "  </thead>\n",
       "  <tbody>\n",
       "    <tr>\n",
       "      <th>count</th>\n",
       "      <td>1881.000000</td>\n",
       "      <td>1.879000e+03</td>\n",
       "      <td>1879.000000</td>\n",
       "      <td>1.879000e+03</td>\n",
       "    </tr>\n",
       "    <tr>\n",
       "      <th>mean</th>\n",
       "      <td>940.000000</td>\n",
       "      <td>1.700610e+05</td>\n",
       "      <td>7863.331559</td>\n",
       "      <td>1.161292e+07</td>\n",
       "    </tr>\n",
       "    <tr>\n",
       "      <th>std</th>\n",
       "      <td>543.142247</td>\n",
       "      <td>7.962293e+05</td>\n",
       "      <td>37879.964926</td>\n",
       "      <td>1.084450e+08</td>\n",
       "    </tr>\n",
       "    <tr>\n",
       "      <th>min</th>\n",
       "      <td>0.000000</td>\n",
       "      <td>-1.000000e+00</td>\n",
       "      <td>-1.000000</td>\n",
       "      <td>2.500000e+01</td>\n",
       "    </tr>\n",
       "    <tr>\n",
       "      <th>25%</th>\n",
       "      <td>470.000000</td>\n",
       "      <td>2.672500e+03</td>\n",
       "      <td>199.000000</td>\n",
       "      <td>8.451500e+04</td>\n",
       "    </tr>\n",
       "    <tr>\n",
       "      <th>50%</th>\n",
       "      <td>940.000000</td>\n",
       "      <td>1.478700e+04</td>\n",
       "      <td>814.000000</td>\n",
       "      <td>5.917210e+05</td>\n",
       "    </tr>\n",
       "    <tr>\n",
       "      <th>75%</th>\n",
       "      <td>1410.000000</td>\n",
       "      <td>6.090600e+04</td>\n",
       "      <td>3377.500000</td>\n",
       "      <td>2.804978e+06</td>\n",
       "    </tr>\n",
       "    <tr>\n",
       "      <th>max</th>\n",
       "      <td>1880.000000</td>\n",
       "      <td>1.644556e+07</td>\n",
       "      <td>732818.000000</td>\n",
       "      <td>4.034122e+09</td>\n",
       "    </tr>\n",
       "  </tbody>\n",
       "</table>\n",
       "</div>"
      ],
      "text/plain": [
       "        Unnamed: 0         Likes       Comments         Views\n",
       "count  1881.000000  1.879000e+03    1879.000000  1.879000e+03\n",
       "mean    940.000000  1.700610e+05    7863.331559  1.161292e+07\n",
       "std     543.142247  7.962293e+05   37879.964926  1.084450e+08\n",
       "min       0.000000 -1.000000e+00      -1.000000  2.500000e+01\n",
       "25%     470.000000  2.672500e+03     199.000000  8.451500e+04\n",
       "50%     940.000000  1.478700e+04     814.000000  5.917210e+05\n",
       "75%    1410.000000  6.090600e+04    3377.500000  2.804978e+06\n",
       "max    1880.000000  1.644556e+07  732818.000000  4.034122e+09"
      ]
     },
     "execution_count": 5,
     "metadata": {},
     "output_type": "execute_result"
    }
   ],
   "source": [
    "videos.describe()"
   ]
  },
  {
   "cell_type": "code",
   "execution_count": 6,
   "metadata": {
    "cell_id": "b846e47d2a2f43f292c2b5aa776379a0",
    "deepnote_cell_type": "code",
    "deepnote_to_be_reexecuted": false,
    "execution_millis": 792,
    "execution_start": 1669893714194,
    "source_hash": "8fe41d91",
    "tags": []
   },
   "outputs": [
    {
     "data": {
      "text/html": [
       "<div>\n",
       "<style scoped>\n",
       "    .dataframe tbody tr th:only-of-type {\n",
       "        vertical-align: middle;\n",
       "    }\n",
       "\n",
       "    .dataframe tbody tr th {\n",
       "        vertical-align: top;\n",
       "    }\n",
       "\n",
       "    .dataframe thead th {\n",
       "        text-align: right;\n",
       "    }\n",
       "</style>\n",
       "<table border=\"1\" class=\"dataframe\">\n",
       "  <thead>\n",
       "    <tr style=\"text-align: right;\">\n",
       "      <th></th>\n",
       "      <th>Unnamed: 0</th>\n",
       "      <th>Likes</th>\n",
       "      <th>Sentiment</th>\n",
       "    </tr>\n",
       "  </thead>\n",
       "  <tbody>\n",
       "    <tr>\n",
       "      <th>count</th>\n",
       "      <td>18409.000000</td>\n",
       "      <td>18409.000000</td>\n",
       "      <td>18409.000000</td>\n",
       "    </tr>\n",
       "    <tr>\n",
       "      <th>mean</th>\n",
       "      <td>9204.000000</td>\n",
       "      <td>1040.019447</td>\n",
       "      <td>1.493998</td>\n",
       "    </tr>\n",
       "    <tr>\n",
       "      <th>std</th>\n",
       "      <td>5314.364888</td>\n",
       "      <td>10651.366148</td>\n",
       "      <td>0.709928</td>\n",
       "    </tr>\n",
       "    <tr>\n",
       "      <th>min</th>\n",
       "      <td>0.000000</td>\n",
       "      <td>0.000000</td>\n",
       "      <td>0.000000</td>\n",
       "    </tr>\n",
       "    <tr>\n",
       "      <th>25%</th>\n",
       "      <td>4602.000000</td>\n",
       "      <td>5.000000</td>\n",
       "      <td>1.000000</td>\n",
       "    </tr>\n",
       "    <tr>\n",
       "      <th>50%</th>\n",
       "      <td>9204.000000</td>\n",
       "      <td>29.000000</td>\n",
       "      <td>2.000000</td>\n",
       "    </tr>\n",
       "    <tr>\n",
       "      <th>75%</th>\n",
       "      <td>13806.000000</td>\n",
       "      <td>190.000000</td>\n",
       "      <td>2.000000</td>\n",
       "    </tr>\n",
       "    <tr>\n",
       "      <th>max</th>\n",
       "      <td>18408.000000</td>\n",
       "      <td>891372.000000</td>\n",
       "      <td>2.000000</td>\n",
       "    </tr>\n",
       "  </tbody>\n",
       "</table>\n",
       "</div>"
      ],
      "text/plain": [
       "         Unnamed: 0          Likes     Sentiment\n",
       "count  18409.000000   18409.000000  18409.000000\n",
       "mean    9204.000000    1040.019447      1.493998\n",
       "std     5314.364888   10651.366148      0.709928\n",
       "min        0.000000       0.000000      0.000000\n",
       "25%     4602.000000       5.000000      1.000000\n",
       "50%     9204.000000      29.000000      2.000000\n",
       "75%    13806.000000     190.000000      2.000000\n",
       "max    18408.000000  891372.000000      2.000000"
      ]
     },
     "execution_count": 6,
     "metadata": {},
     "output_type": "execute_result"
    }
   ],
   "source": [
    "comments.describe()"
   ]
  },
  {
   "cell_type": "code",
   "execution_count": 7,
   "metadata": {
    "cell_id": "9e07abf1108d453abcefcfee237634a2",
    "deepnote_cell_type": "code",
    "deepnote_to_be_reexecuted": false,
    "execution_millis": 7,
    "execution_start": 1669893714225,
    "source_hash": "11d4585",
    "tags": []
   },
   "outputs": [],
   "source": [
    "videos.drop(columns=\"Unnamed: 0\", axis=1, inplace=True)\n",
    "comments.drop(columns=\"Unnamed: 0\", axis=1, inplace=True)"
   ]
  },
  {
   "cell_type": "code",
   "execution_count": 8,
   "metadata": {
    "cell_id": "782f6836636d427d9bf97baa0590975d",
    "deepnote_cell_type": "code",
    "deepnote_to_be_reexecuted": false,
    "execution_millis": 0,
    "execution_start": 1669893714279,
    "source_hash": "21e08f8f",
    "tags": []
   },
   "outputs": [],
   "source": [
    "videos.columns = videos.columns.str.lower().str.replace(\" \", \"_\")\n",
    "comments.columns = comments.columns.str.lower().str.replace(\" \", \"_\")"
   ]
  },
  {
   "cell_type": "code",
   "execution_count": 9,
   "metadata": {
    "cell_id": "dacb8d883d3846df870164ea652be4ba",
    "deepnote_cell_type": "code",
    "deepnote_to_be_reexecuted": false,
    "execution_millis": 706,
    "execution_start": 1669893714280,
    "source_hash": "c76eaeb4",
    "tags": []
   },
   "outputs": [
    {
     "name": "stdout",
     "output_type": "stream",
     "text": [
      "<class 'pandas.core.frame.DataFrame'>\n",
      "RangeIndex: 1881 entries, 0 to 1880\n",
      "Data columns (total 7 columns):\n",
      " #   Column        Non-Null Count  Dtype  \n",
      "---  ------        --------------  -----  \n",
      " 0   title         1881 non-null   object \n",
      " 1   video_id      1881 non-null   object \n",
      " 2   published_at  1881 non-null   object \n",
      " 3   keyword       1881 non-null   object \n",
      " 4   likes         1879 non-null   float64\n",
      " 5   comments      1879 non-null   float64\n",
      " 6   views         1879 non-null   float64\n",
      "dtypes: float64(3), object(4)\n",
      "memory usage: 103.0+ KB\n"
     ]
    }
   ],
   "source": [
    "videos.info()"
   ]
  },
  {
   "cell_type": "code",
   "execution_count": 10,
   "metadata": {
    "cell_id": "b925e63c6ed34517ad8125f299e7ad17",
    "deepnote_cell_type": "code",
    "deepnote_to_be_reexecuted": false,
    "execution_millis": 706,
    "execution_start": 1669893714280,
    "source_hash": "af2b07c6",
    "tags": []
   },
   "outputs": [
    {
     "name": "stdout",
     "output_type": "stream",
     "text": [
      "<class 'pandas.core.frame.DataFrame'>\n",
      "RangeIndex: 18409 entries, 0 to 18408\n",
      "Data columns (total 4 columns):\n",
      " #   Column     Non-Null Count  Dtype  \n",
      "---  ------     --------------  -----  \n",
      " 0   video_id   18409 non-null  object \n",
      " 1   comment    18408 non-null  object \n",
      " 2   likes      18409 non-null  float64\n",
      " 3   sentiment  18409 non-null  float64\n",
      "dtypes: float64(2), object(2)\n",
      "memory usage: 575.4+ KB\n"
     ]
    }
   ],
   "source": [
    "comments.info()"
   ]
  },
  {
   "cell_type": "markdown",
   "metadata": {
    "cell_id": "2b31b672c87646d5b47a8e8ad4de6cea",
    "deepnote_cell_type": "markdown"
   },
   "source": [
    "# <div style='color:white;background-color:#FF0000;padding:10px 20px;font-size:25px;font-weight:bold'>Dealing with Null Values</div>"
   ]
  },
  {
   "cell_type": "markdown",
   "metadata": {
    "cell_id": "24ad580804744ebab442e7094586778e",
    "deepnote_cell_type": "text-cell-p",
    "formattedRanges": [],
    "is_collapsed": false,
    "tags": []
   },
   "source": [
    "As shown above, the videos DataFrame has two rows with missing values and the comments DataFrame has one. Since there are minimal null values in the DataFrame, we decided to drop these rows."
   ]
  },
  {
   "cell_type": "code",
   "execution_count": 11,
   "metadata": {
    "cell_id": "665468fdc6744ed891b00d2f9d1a8051",
    "deepnote_cell_type": "code",
    "deepnote_to_be_reexecuted": false,
    "execution_millis": 1,
    "execution_start": 1669893714323,
    "source_hash": "cf673759",
    "tags": []
   },
   "outputs": [],
   "source": [
    "videos = videos.dropna()\n",
    "comments = comments.dropna()"
   ]
  },
  {
   "cell_type": "code",
   "execution_count": 12,
   "metadata": {
    "cell_id": "293ef0d4c5e143c78aa739ee6947536d",
    "deepnote_cell_type": "code",
    "deepnote_to_be_reexecuted": false,
    "execution_millis": 659,
    "execution_start": 1669893714328,
    "source_hash": "194f642e",
    "tags": []
   },
   "outputs": [
    {
     "data": {
      "text/plain": [
       "title           0\n",
       "video_id        0\n",
       "published_at    0\n",
       "keyword         0\n",
       "likes           0\n",
       "comments        0\n",
       "views           0\n",
       "dtype: int64"
      ]
     },
     "execution_count": 12,
     "metadata": {},
     "output_type": "execute_result"
    }
   ],
   "source": [
    "videos.isnull().sum()"
   ]
  },
  {
   "cell_type": "code",
   "execution_count": 13,
   "metadata": {
    "cell_id": "46bdcba82fc04b8dbac48d94532bd4fc",
    "deepnote_cell_type": "code",
    "deepnote_to_be_reexecuted": false,
    "execution_millis": 649,
    "execution_start": 1669893714339,
    "source_hash": "6ac47ffd",
    "tags": []
   },
   "outputs": [
    {
     "data": {
      "text/plain": [
       "video_id     0\n",
       "comment      0\n",
       "likes        0\n",
       "sentiment    0\n",
       "dtype: int64"
      ]
     },
     "execution_count": 13,
     "metadata": {},
     "output_type": "execute_result"
    }
   ],
   "source": [
    "comments.isnull().sum()"
   ]
  },
  {
   "cell_type": "markdown",
   "metadata": {
    "cell_id": "f5e779aeda2f498e897a1b7aeb3c64a3",
    "deepnote_cell_type": "markdown"
   },
   "source": [
    "# <div style='color:white;background-color:#FF0000;padding:10px 20px;font-size:25px;font-weight:bold'>Dealing with Duplicate Values</div>"
   ]
  },
  {
   "cell_type": "markdown",
   "metadata": {
    "cell_id": "676f246bbbce49a18ee9cbe820e764ee",
    "deepnote_cell_type": "text-cell-p",
    "formattedRanges": [],
    "is_collapsed": false,
    "tags": []
   },
   "source": [
    "While exploring the videos DataFrame we discovered that there were 12 records that had repeated values in the video_id column. For every duplicated record every value was the same besides the keyword column. Since only 12 out of 1881 values were duplicates, we decided to drop the duplicate records that showed up second."
   ]
  },
  {
   "cell_type": "code",
   "execution_count": 14,
   "metadata": {
    "cell_id": "936e2d7e8c2c4a03a24921d0c1a8a35c",
    "deepnote_cell_type": "code",
    "deepnote_table_loading": false,
    "deepnote_table_state": {
     "filters": [],
     "pageIndex": 1,
     "pageSize": 10,
     "sortBy": []
    },
    "deepnote_to_be_reexecuted": false,
    "execution_millis": 581,
    "execution_start": 1669893714407,
    "source_hash": "3f68f8c6",
    "tags": []
   },
   "outputs": [
    {
     "data": {
      "text/html": [
       "<div>\n",
       "<style scoped>\n",
       "    .dataframe tbody tr th:only-of-type {\n",
       "        vertical-align: middle;\n",
       "    }\n",
       "\n",
       "    .dataframe tbody tr th {\n",
       "        vertical-align: top;\n",
       "    }\n",
       "\n",
       "    .dataframe thead th {\n",
       "        text-align: right;\n",
       "    }\n",
       "</style>\n",
       "<table border=\"1\" class=\"dataframe\">\n",
       "  <thead>\n",
       "    <tr style=\"text-align: right;\">\n",
       "      <th></th>\n",
       "      <th>title</th>\n",
       "      <th>video_id</th>\n",
       "      <th>published_at</th>\n",
       "      <th>keyword</th>\n",
       "      <th>likes</th>\n",
       "      <th>comments</th>\n",
       "      <th>views</th>\n",
       "    </tr>\n",
       "  </thead>\n",
       "  <tbody>\n",
       "    <tr>\n",
       "      <th>1714</th>\n",
       "      <td>Vikram Vedha Movie Teaser Review | KRK | #krkr...</td>\n",
       "      <td>2FYvHn12pOQ</td>\n",
       "      <td>2022-08-24</td>\n",
       "      <td>movies</td>\n",
       "      <td>-1.0</td>\n",
       "      <td>105.0</td>\n",
       "      <td>1541874.0</td>\n",
       "    </tr>\n",
       "    <tr>\n",
       "      <th>1055</th>\n",
       "      <td>Vikram Vedha Movie Teaser Review | KRK | #krkr...</td>\n",
       "      <td>2FYvHn12pOQ</td>\n",
       "      <td>2022-08-24</td>\n",
       "      <td>reaction</td>\n",
       "      <td>29728.0</td>\n",
       "      <td>8832.0</td>\n",
       "      <td>405791.0</td>\n",
       "    </tr>\n",
       "    <tr>\n",
       "      <th>2</th>\n",
       "      <td>My New House Gaming Setup is SICK!</td>\n",
       "      <td>4mgePWWCAmA</td>\n",
       "      <td>2022-08-23</td>\n",
       "      <td>tech</td>\n",
       "      <td>63825.0</td>\n",
       "      <td>3338.0</td>\n",
       "      <td>1564007.0</td>\n",
       "    </tr>\n",
       "    <tr>\n",
       "      <th>88</th>\n",
       "      <td>My New House Gaming Setup is SICK!</td>\n",
       "      <td>4mgePWWCAmA</td>\n",
       "      <td>2022-08-23</td>\n",
       "      <td>gaming</td>\n",
       "      <td>63825.0</td>\n",
       "      <td>3338.0</td>\n",
       "      <td>1564007.0</td>\n",
       "    </tr>\n",
       "    <tr>\n",
       "      <th>1501</th>\n",
       "      <td>Computer Scientist Explains Machine Learning i...</td>\n",
       "      <td>5q87K1WaoFI</td>\n",
       "      <td>2021-08-18</td>\n",
       "      <td>computer science</td>\n",
       "      <td>42940.0</td>\n",
       "      <td>1735.0</td>\n",
       "      <td>1407319.0</td>\n",
       "    </tr>\n",
       "    <tr>\n",
       "      <th>1832</th>\n",
       "      <td>Computer Scientist Explains Machine Learning i...</td>\n",
       "      <td>5q87K1WaoFI</td>\n",
       "      <td>2021-08-18</td>\n",
       "      <td>machine learning</td>\n",
       "      <td>15137.0</td>\n",
       "      <td>181.0</td>\n",
       "      <td>906372.0</td>\n",
       "    </tr>\n",
       "    <tr>\n",
       "      <th>1762</th>\n",
       "      <td>Python Machine Learning Tutorial (Data Science)</td>\n",
       "      <td>7eh4d6sabA0</td>\n",
       "      <td>2020-09-17</td>\n",
       "      <td>data science</td>\n",
       "      <td>7555.0</td>\n",
       "      <td>442.0</td>\n",
       "      <td>295344.0</td>\n",
       "    </tr>\n",
       "    <tr>\n",
       "      <th>1835</th>\n",
       "      <td>Python Machine Learning Tutorial (Data Science)</td>\n",
       "      <td>7eh4d6sabA0</td>\n",
       "      <td>2020-09-17</td>\n",
       "      <td>machine learning</td>\n",
       "      <td>1237.0</td>\n",
       "      <td>16.0</td>\n",
       "      <td>32605.0</td>\n",
       "    </tr>\n",
       "    <tr>\n",
       "      <th>1554</th>\n",
       "      <td>🚨 DÉPÊCHEZ-VOUS 🚨 Ces PROMOS disparaissent bie...</td>\n",
       "      <td>96mrgd8-3yE</td>\n",
       "      <td>2022-08-24</td>\n",
       "      <td>nintendo</td>\n",
       "      <td>406.0</td>\n",
       "      <td>57.0</td>\n",
       "      <td>13184.0</td>\n",
       "    </tr>\n",
       "    <tr>\n",
       "      <th>1595</th>\n",
       "      <td>🚨 DÉPÊCHEZ-VOUS 🚨 Ces PROMOS disparaissent bie...</td>\n",
       "      <td>96mrgd8-3yE</td>\n",
       "      <td>2022-08-24</td>\n",
       "      <td>xbox</td>\n",
       "      <td>406.0</td>\n",
       "      <td>57.0</td>\n",
       "      <td>13184.0</td>\n",
       "    </tr>\n",
       "    <tr>\n",
       "      <th>319</th>\n",
       "      <td>20 Minecraft Block Facts You Maybe Didn&amp;#39;t ...</td>\n",
       "      <td>LeC5yJq4tsI</td>\n",
       "      <td>2022-08-21</td>\n",
       "      <td>tutorial</td>\n",
       "      <td>57526.0</td>\n",
       "      <td>1115.0</td>\n",
       "      <td>1204024.0</td>\n",
       "    </tr>\n",
       "    <tr>\n",
       "      <th>1220</th>\n",
       "      <td>20 Minecraft Block Facts You Maybe Didn&amp;#39;t ...</td>\n",
       "      <td>LeC5yJq4tsI</td>\n",
       "      <td>2022-08-21</td>\n",
       "      <td>minecraft</td>\n",
       "      <td>57527.0</td>\n",
       "      <td>1115.0</td>\n",
       "      <td>1204024.0</td>\n",
       "    </tr>\n",
       "    <tr>\n",
       "      <th>423</th>\n",
       "      <td>How to Solve a Rubik&amp;#39;s Cube | WIRED</td>\n",
       "      <td>R-R0KrXvWbc</td>\n",
       "      <td>2019-09-05</td>\n",
       "      <td>cubes</td>\n",
       "      <td>339759.0</td>\n",
       "      <td>32717.0</td>\n",
       "      <td>29905105.0</td>\n",
       "    </tr>\n",
       "    <tr>\n",
       "      <th>225</th>\n",
       "      <td>How to Solve a Rubik&amp;#39;s Cube | WIRED</td>\n",
       "      <td>R-R0KrXvWbc</td>\n",
       "      <td>2019-09-05</td>\n",
       "      <td>how-to</td>\n",
       "      <td>339758.0</td>\n",
       "      <td>32718.0</td>\n",
       "      <td>29905105.0</td>\n",
       "    </tr>\n",
       "    <tr>\n",
       "      <th>1041</th>\n",
       "      <td>BLACKPINK - ‘Pink Venom’ DANCE PRACTICE VIDEO</td>\n",
       "      <td>RFMi3v0TXP8</td>\n",
       "      <td>2022-08-24</td>\n",
       "      <td>reaction</td>\n",
       "      <td>3001265.0</td>\n",
       "      <td>110162.0</td>\n",
       "      <td>23836066.0</td>\n",
       "    </tr>\n",
       "    <tr>\n",
       "      <th>916</th>\n",
       "      <td>BLACKPINK - ‘Pink Venom’ DANCE PRACTICE VIDEO</td>\n",
       "      <td>RFMi3v0TXP8</td>\n",
       "      <td>2022-08-24</td>\n",
       "      <td>music</td>\n",
       "      <td>3001232.0</td>\n",
       "      <td>110160.0</td>\n",
       "      <td>23836066.0</td>\n",
       "    </tr>\n",
       "    <tr>\n",
       "      <th>1229</th>\n",
       "      <td>I OPENED MY OWN ARCADE SHOP</td>\n",
       "      <td>WBK2_lD7KGA</td>\n",
       "      <td>2022-08-24</td>\n",
       "      <td>minecraft</td>\n",
       "      <td>298445.0</td>\n",
       "      <td>15610.0</td>\n",
       "      <td>3773387.0</td>\n",
       "    </tr>\n",
       "    <tr>\n",
       "      <th>91</th>\n",
       "      <td>I OPENED MY OWN ARCADE SHOP</td>\n",
       "      <td>WBK2_lD7KGA</td>\n",
       "      <td>2022-08-24</td>\n",
       "      <td>gaming</td>\n",
       "      <td>298406.0</td>\n",
       "      <td>15609.0</td>\n",
       "      <td>3773387.0</td>\n",
       "    </tr>\n",
       "    <tr>\n",
       "      <th>891</th>\n",
       "      <td>Lofi For Reading 📚 Lofi Hip Hop | Study Music ...</td>\n",
       "      <td>ZgeorpjGJC0</td>\n",
       "      <td>2022-08-24</td>\n",
       "      <td>music</td>\n",
       "      <td>329.0</td>\n",
       "      <td>29.0</td>\n",
       "      <td>14336.0</td>\n",
       "    </tr>\n",
       "    <tr>\n",
       "      <th>1077</th>\n",
       "      <td>Lofi For Reading 📚 Lofi Hip Hop | Study Music ...</td>\n",
       "      <td>ZgeorpjGJC0</td>\n",
       "      <td>2022-08-24</td>\n",
       "      <td>lofi</td>\n",
       "      <td>329.0</td>\n",
       "      <td>29.0</td>\n",
       "      <td>14341.0</td>\n",
       "    </tr>\n",
       "    <tr>\n",
       "      <th>682</th>\n",
       "      <td>The History Of Chess: A Reflection Of Us</td>\n",
       "      <td>kkOweffr3II</td>\n",
       "      <td>2022-08-21</td>\n",
       "      <td>history</td>\n",
       "      <td>2546.0</td>\n",
       "      <td>173.0</td>\n",
       "      <td>51885.0</td>\n",
       "    </tr>\n",
       "    <tr>\n",
       "      <th>472</th>\n",
       "      <td>The History Of Chess: A Reflection Of Us</td>\n",
       "      <td>kkOweffr3II</td>\n",
       "      <td>2022-08-21</td>\n",
       "      <td>chess</td>\n",
       "      <td>2546.0</td>\n",
       "      <td>173.0</td>\n",
       "      <td>51885.0</td>\n",
       "    </tr>\n",
       "    <tr>\n",
       "      <th>848</th>\n",
       "      <td>ASMR Gaming 😴 Fortnite 1 Kill = 1 Trigger Rela...</td>\n",
       "      <td>mqc6QqoGNWI</td>\n",
       "      <td>2022-08-24</td>\n",
       "      <td>asmr</td>\n",
       "      <td>563.0</td>\n",
       "      <td>86.0</td>\n",
       "      <td>14537.0</td>\n",
       "    </tr>\n",
       "    <tr>\n",
       "      <th>129</th>\n",
       "      <td>ASMR Gaming 😴 Fortnite 1 Kill = 1 Trigger Rela...</td>\n",
       "      <td>mqc6QqoGNWI</td>\n",
       "      <td>2022-08-24</td>\n",
       "      <td>gaming</td>\n",
       "      <td>563.0</td>\n",
       "      <td>85.0</td>\n",
       "      <td>14537.0</td>\n",
       "    </tr>\n",
       "  </tbody>\n",
       "</table>\n",
       "</div>"
      ],
      "text/plain": [
       "                                                  title     video_id  \\\n",
       "1714  Vikram Vedha Movie Teaser Review | KRK | #krkr...  2FYvHn12pOQ   \n",
       "1055  Vikram Vedha Movie Teaser Review | KRK | #krkr...  2FYvHn12pOQ   \n",
       "2                    My New House Gaming Setup is SICK!  4mgePWWCAmA   \n",
       "88                   My New House Gaming Setup is SICK!  4mgePWWCAmA   \n",
       "1501  Computer Scientist Explains Machine Learning i...  5q87K1WaoFI   \n",
       "1832  Computer Scientist Explains Machine Learning i...  5q87K1WaoFI   \n",
       "1762    Python Machine Learning Tutorial (Data Science)  7eh4d6sabA0   \n",
       "1835    Python Machine Learning Tutorial (Data Science)  7eh4d6sabA0   \n",
       "1554  🚨 DÉPÊCHEZ-VOUS 🚨 Ces PROMOS disparaissent bie...  96mrgd8-3yE   \n",
       "1595  🚨 DÉPÊCHEZ-VOUS 🚨 Ces PROMOS disparaissent bie...  96mrgd8-3yE   \n",
       "319   20 Minecraft Block Facts You Maybe Didn&#39;t ...  LeC5yJq4tsI   \n",
       "1220  20 Minecraft Block Facts You Maybe Didn&#39;t ...  LeC5yJq4tsI   \n",
       "423             How to Solve a Rubik&#39;s Cube | WIRED  R-R0KrXvWbc   \n",
       "225             How to Solve a Rubik&#39;s Cube | WIRED  R-R0KrXvWbc   \n",
       "1041      BLACKPINK - ‘Pink Venom’ DANCE PRACTICE VIDEO  RFMi3v0TXP8   \n",
       "916       BLACKPINK - ‘Pink Venom’ DANCE PRACTICE VIDEO  RFMi3v0TXP8   \n",
       "1229                        I OPENED MY OWN ARCADE SHOP  WBK2_lD7KGA   \n",
       "91                          I OPENED MY OWN ARCADE SHOP  WBK2_lD7KGA   \n",
       "891   Lofi For Reading 📚 Lofi Hip Hop | Study Music ...  ZgeorpjGJC0   \n",
       "1077  Lofi For Reading 📚 Lofi Hip Hop | Study Music ...  ZgeorpjGJC0   \n",
       "682            The History Of Chess: A Reflection Of Us  kkOweffr3II   \n",
       "472            The History Of Chess: A Reflection Of Us  kkOweffr3II   \n",
       "848   ASMR Gaming 😴 Fortnite 1 Kill = 1 Trigger Rela...  mqc6QqoGNWI   \n",
       "129   ASMR Gaming 😴 Fortnite 1 Kill = 1 Trigger Rela...  mqc6QqoGNWI   \n",
       "\n",
       "     published_at           keyword      likes  comments       views  \n",
       "1714   2022-08-24            movies       -1.0     105.0   1541874.0  \n",
       "1055   2022-08-24          reaction    29728.0    8832.0    405791.0  \n",
       "2      2022-08-23              tech    63825.0    3338.0   1564007.0  \n",
       "88     2022-08-23            gaming    63825.0    3338.0   1564007.0  \n",
       "1501   2021-08-18  computer science    42940.0    1735.0   1407319.0  \n",
       "1832   2021-08-18  machine learning    15137.0     181.0    906372.0  \n",
       "1762   2020-09-17      data science     7555.0     442.0    295344.0  \n",
       "1835   2020-09-17  machine learning     1237.0      16.0     32605.0  \n",
       "1554   2022-08-24          nintendo      406.0      57.0     13184.0  \n",
       "1595   2022-08-24              xbox      406.0      57.0     13184.0  \n",
       "319    2022-08-21          tutorial    57526.0    1115.0   1204024.0  \n",
       "1220   2022-08-21         minecraft    57527.0    1115.0   1204024.0  \n",
       "423    2019-09-05             cubes   339759.0   32717.0  29905105.0  \n",
       "225    2019-09-05            how-to   339758.0   32718.0  29905105.0  \n",
       "1041   2022-08-24          reaction  3001265.0  110162.0  23836066.0  \n",
       "916    2022-08-24             music  3001232.0  110160.0  23836066.0  \n",
       "1229   2022-08-24         minecraft   298445.0   15610.0   3773387.0  \n",
       "91     2022-08-24            gaming   298406.0   15609.0   3773387.0  \n",
       "891    2022-08-24             music      329.0      29.0     14336.0  \n",
       "1077   2022-08-24              lofi      329.0      29.0     14341.0  \n",
       "682    2022-08-21           history     2546.0     173.0     51885.0  \n",
       "472    2022-08-21             chess     2546.0     173.0     51885.0  \n",
       "848    2022-08-24              asmr      563.0      86.0     14537.0  \n",
       "129    2022-08-24            gaming      563.0      85.0     14537.0  "
      ]
     },
     "execution_count": 14,
     "metadata": {},
     "output_type": "execute_result"
    }
   ],
   "source": [
    "videos.loc[videos.video_id.duplicated(keep=False), :].sort_values(\"video_id\")"
   ]
  },
  {
   "cell_type": "code",
   "execution_count": 15,
   "metadata": {
    "cell_id": "3034a31da8b54579a88aae05b824205a",
    "deepnote_cell_type": "code",
    "deepnote_to_be_reexecuted": false,
    "execution_millis": 3,
    "execution_start": 1669893714433,
    "source_hash": "1ffc8a30",
    "tags": []
   },
   "outputs": [],
   "source": [
    "videos = videos.drop_duplicates(subset=['video_id'])"
   ]
  },
  {
   "cell_type": "code",
   "execution_count": 16,
   "metadata": {
    "cell_id": "85c5ddc818084b658a0e557b9e43b0c4",
    "deepnote_cell_type": "code",
    "deepnote_to_be_reexecuted": false,
    "execution_millis": 549,
    "execution_start": 1669893714440,
    "source_hash": "280abfd4",
    "tags": []
   },
   "outputs": [
    {
     "data": {
      "text/plain": [
       "0"
      ]
     },
     "execution_count": 16,
     "metadata": {},
     "output_type": "execute_result"
    }
   ],
   "source": [
    "videos.video_id.duplicated().sum()"
   ]
  },
  {
   "cell_type": "markdown",
   "metadata": {
    "cell_id": "edd0a74bc4b240b3beb9219e6225eb4e",
    "deepnote_cell_type": "markdown",
    "tags": []
   },
   "source": [
    "We also discovered that the dataset had -1 values for records that disabled likes or comments on the video. In order to keep our data consistent, we dropped these records from our DataFrame."
   ]
  },
  {
   "cell_type": "code",
   "execution_count": 17,
   "metadata": {
    "cell_id": "fadc2e8294da442295a572b82d82d58c",
    "deepnote_cell_type": "code",
    "deepnote_to_be_reexecuted": false,
    "execution_millis": 1,
    "execution_start": 1669893714494,
    "source_hash": "5dc24fb1",
    "tags": []
   },
   "outputs": [
    {
     "name": "stdout",
     "output_type": "stream",
     "text": [
      "(6, 7)\n",
      "(2, 7)\n"
     ]
    }
   ],
   "source": [
    "print(videos[videos.likes == -1].shape)\n",
    "print(videos[videos.comments == -1].shape)"
   ]
  },
  {
   "cell_type": "code",
   "execution_count": 18,
   "metadata": {
    "cell_id": "b6bce76a3a394fa2a08ccbe7989607ef",
    "deepnote_cell_type": "code",
    "deepnote_to_be_reexecuted": false,
    "execution_millis": 494,
    "execution_start": 1669893714495,
    "source_hash": "1e4b926e",
    "tags": []
   },
   "outputs": [],
   "source": [
    "videos = videos[videos.likes != -1]\n",
    "videos = videos[videos.comments != -1]"
   ]
  },
  {
   "cell_type": "markdown",
   "metadata": {
    "cell_id": "2aa9f925343943daa1fbd3d6bf40db45",
    "deepnote_cell_type": "markdown"
   },
   "source": [
    "# <div style='color:white;background-color:#FF0000;padding:10px 20px;font-size:25px;font-weight:bold'>Feature Engineering</div>"
   ]
  },
  {
   "cell_type": "markdown",
   "metadata": {
    "cell_id": "edfbf2787d2042a8bfff041bad1bdaae",
    "deepnote_cell_type": "markdown",
    "tags": []
   },
   "source": [
    "### Feature Engineering Summary:\n",
    "\n",
    "After cleaning and analyzing our dataset we decided to add some variables that might be useful in our ML model. We added these variables because we thought they might have an impact on the like conversion rate of videos.\n",
    "\n",
    "* **avg_comm_len:** Average comment length for each video\n",
    "* **title_len:** Title length\n",
    "* **avg_comm_sent:** Average comment sentiment score for each video\n",
    "* **sent_title:** Title sentiment score\n",
    "* **month:** Month in numerical form (1 being January, 2 being February, etc.)\n",
    "* **like_conversion_rate:** Percent of likes per view\n",
    "* **like_conversion_cat:** Like conversion rate assigned a certain category based on value (Bad, Neutral, or Good)"
   ]
  },
  {
   "cell_type": "markdown",
   "metadata": {
    "cell_id": "fb94c751cd8a45e581617b7c35ff691c",
    "deepnote_cell_type": "markdown",
    "tags": []
   },
   "source": [
    "##### Average Comment Length:"
   ]
  },
  {
   "cell_type": "code",
   "execution_count": 19,
   "metadata": {
    "cell_id": "5f694c55794348568c1d09606124820a",
    "deepnote_cell_type": "code",
    "deepnote_to_be_reexecuted": false,
    "execution_millis": 70,
    "execution_start": 1669893714538,
    "source_hash": "27c51e92",
    "tags": []
   },
   "outputs": [],
   "source": [
    "comments[\"comment_len\"] = comments.comment.str.split().apply(lambda x: len(x))\n",
    "avg_com_len = comments.groupby(\"video_id\")[\"comment_len\"].mean()\n",
    "videos = pd.merge(videos, avg_com_len, how=\"inner\", on=[\"video_id\"]).rename(columns={'comment_len':'avg_comm_len'})"
   ]
  },
  {
   "cell_type": "markdown",
   "metadata": {
    "cell_id": "2e8a42a418d1445f8459363e4e717f74",
    "deepnote_cell_type": "markdown",
    "tags": []
   },
   "source": [
    "##### Title Length:"
   ]
  },
  {
   "cell_type": "code",
   "execution_count": 20,
   "metadata": {
    "cell_id": "3655ce723608471a929f7928d71ae71e",
    "deepnote_cell_type": "code",
    "deepnote_to_be_reexecuted": false,
    "execution_millis": 3,
    "execution_start": 1669893714614,
    "source_hash": "fb6ff3aa",
    "tags": []
   },
   "outputs": [],
   "source": [
    "videos['title_len'] = videos['title'].str.split().apply(lambda x: len(x))"
   ]
  },
  {
   "cell_type": "markdown",
   "metadata": {
    "cell_id": "5938a36ca17a4dc283ccd6a41c89b024",
    "deepnote_cell_type": "markdown",
    "tags": []
   },
   "source": [
    "##### Remove Stopwords and Get Sentiment Score Functions:"
   ]
  },
  {
   "cell_type": "code",
   "execution_count": 21,
   "metadata": {
    "cell_id": "de92ea9e997a447eae0dffb6fb0ffea8",
    "deepnote_cell_type": "code",
    "deepnote_to_be_reexecuted": false,
    "execution_millis": 1,
    "execution_start": 1669893714631,
    "source_hash": "a08eb232",
    "tags": []
   },
   "outputs": [],
   "source": [
    "def remove_stopwords(title):\n",
    "    title = title.lower()\n",
    "    temp_title = title.split(' ')\n",
    "    temp_title = [i for i in temp_title if i not in stopwords.words('english')]\n",
    "    return ' '.join(temp_title)"
   ]
  },
  {
   "cell_type": "code",
   "execution_count": 22,
   "metadata": {
    "cell_id": "75abeb15eb07450684edafb80d138b9d",
    "deepnote_cell_type": "code",
    "deepnote_to_be_reexecuted": false,
    "execution_millis": 1,
    "execution_start": 1669893714678,
    "source_hash": "9447a37d"
   },
   "outputs": [],
   "source": [
    "sid = SentimentIntensityAnalyzer()"
   ]
  },
  {
   "cell_type": "code",
   "execution_count": 23,
   "metadata": {
    "cell_id": "4c5fb3cf17114385aa1238849db13e7d",
    "deepnote_cell_type": "code",
    "deepnote_to_be_reexecuted": false,
    "execution_millis": 1,
    "execution_start": 1669893714679,
    "source_hash": "1ed84e9d",
    "tags": []
   },
   "outputs": [],
   "source": [
    "def get_sent(sentence):\n",
    "    sentiment_ = sid.polarity_scores(sentence)\n",
    "    return sentiment_['compound']"
   ]
  },
  {
   "cell_type": "markdown",
   "metadata": {
    "cell_id": "eb9c95e4fe9a4672ab57ee397979e7d1",
    "deepnote_cell_type": "markdown",
    "tags": []
   },
   "source": [
    "##### Comment Sentiment Score:"
   ]
  },
  {
   "cell_type": "code",
   "execution_count": 24,
   "metadata": {
    "cell_id": "c0cf0598e4d34df8bebe1da619fc5f37",
    "deepnote_cell_type": "code",
    "deepnote_to_be_reexecuted": false,
    "execution_millis": 60490,
    "execution_start": 1669893714680,
    "source_hash": "7cd7e1bf",
    "tags": []
   },
   "outputs": [],
   "source": [
    "comments['comment'] = comments['comment'].apply(remove_stopwords)"
   ]
  },
  {
   "cell_type": "code",
   "execution_count": 25,
   "metadata": {
    "cell_id": "ae1c195cf658444482d0ebcf782fe1e9",
    "deepnote_cell_type": "code",
    "deepnote_to_be_reexecuted": false,
    "execution_millis": 5106,
    "execution_start": 1669893775192,
    "source_hash": "8437d59a",
    "tags": []
   },
   "outputs": [],
   "source": [
    "comments['comm_sent'] = comments['comment'].apply(get_sent)"
   ]
  },
  {
   "cell_type": "code",
   "execution_count": 26,
   "metadata": {
    "cell_id": "ac4c87883dcd4834b28d48dddfc6c2bb",
    "deepnote_cell_type": "code",
    "deepnote_to_be_reexecuted": false,
    "execution_millis": 4,
    "execution_start": 1669893780309,
    "source_hash": "a5517b8f",
    "tags": []
   },
   "outputs": [],
   "source": [
    "avg_sent = comments.groupby('video_id')['comm_sent'].mean()\n",
    "videos = pd.merge(videos, avg_sent, how=\"inner\", on=[\"video_id\"]).rename(columns={'comm_sent':'avg_comm_sent'})"
   ]
  },
  {
   "cell_type": "markdown",
   "metadata": {
    "cell_id": "b586c0b8e2da402da7b0915b4542b434",
    "deepnote_cell_type": "markdown",
    "tags": []
   },
   "source": [
    "##### Title Sentiment Score:"
   ]
  },
  {
   "cell_type": "code",
   "execution_count": 27,
   "metadata": {
    "cell_id": "943f0fc6a6804133ad26e77744a85669",
    "deepnote_cell_type": "code",
    "deepnote_to_be_reexecuted": false,
    "execution_millis": 1789,
    "execution_start": 1669893780318,
    "source_hash": "c6a51a08",
    "tags": []
   },
   "outputs": [],
   "source": [
    "videos['title'] = videos['title'].apply(remove_stopwords)"
   ]
  },
  {
   "cell_type": "code",
   "execution_count": 28,
   "metadata": {
    "cell_id": "4e3594d2d4be4a63be95c542584b4ab6",
    "deepnote_cell_type": "code",
    "deepnote_to_be_reexecuted": false,
    "execution_millis": 207,
    "execution_start": 1669893782108,
    "source_hash": "daab1564",
    "tags": []
   },
   "outputs": [],
   "source": [
    "videos['sent_title'] = videos['title'].apply(get_sent)"
   ]
  },
  {
   "cell_type": "markdown",
   "metadata": {
    "cell_id": "11642d16ca024595a91e5c6b690c18d6",
    "deepnote_cell_type": "markdown",
    "tags": []
   },
   "source": [
    "##### Month:"
   ]
  },
  {
   "cell_type": "code",
   "execution_count": 29,
   "metadata": {
    "cell_id": "6457c98b3f0f4bcbb19e5a76f7fe8dfc",
    "deepnote_cell_type": "code",
    "deepnote_to_be_reexecuted": false,
    "execution_millis": 73,
    "execution_start": 1669893782393,
    "source_hash": "d6867c12",
    "tags": []
   },
   "outputs": [],
   "source": [
    "videos['published_at'] = videos['published_at'].apply(pd.to_datetime)"
   ]
  },
  {
   "cell_type": "code",
   "execution_count": 30,
   "metadata": {
    "cell_id": "6dd991d2071a4f3d834d81bccb286456",
    "deepnote_cell_type": "code",
    "deepnote_to_be_reexecuted": false,
    "execution_millis": 1,
    "execution_start": 1669893782507,
    "source_hash": "9ccd3c35",
    "tags": []
   },
   "outputs": [],
   "source": [
    "videos['month'] = videos['published_at'].apply(lambda x: x.month)"
   ]
  },
  {
   "cell_type": "markdown",
   "metadata": {
    "cell_id": "40029478b45b419489e80bab660a0e4b",
    "deepnote_cell_type": "markdown",
    "tags": []
   },
   "source": [
    "##### Like Conversion Rate:"
   ]
  },
  {
   "cell_type": "code",
   "execution_count": 31,
   "metadata": {
    "cell_id": "1aa3065e29d441088e7be8732b6397a3",
    "deepnote_cell_type": "code",
    "deepnote_to_be_reexecuted": false,
    "execution_millis": 43,
    "execution_start": 1669893782508,
    "source_hash": "1261f28e",
    "tags": []
   },
   "outputs": [],
   "source": [
    "videos['like_conversion_rate'] = videos.apply(lambda x: (x['likes'] / x['views'])*100, axis=1 )"
   ]
  },
  {
   "cell_type": "markdown",
   "metadata": {
    "cell_id": "76a042b1919948f28d3b76e465b13e21",
    "deepnote_cell_type": "markdown",
    "tags": []
   },
   "source": [
    "##### Like Conversion Rate Categorical Value:"
   ]
  },
  {
   "cell_type": "code",
   "execution_count": 32,
   "metadata": {
    "cell_id": "e3b66f72d4964866bbe9faf8e87f0e27",
    "deepnote_cell_type": "code",
    "deepnote_to_be_reexecuted": false,
    "execution_millis": 772,
    "execution_start": 1669893782551,
    "source_hash": "2b7c35f7",
    "tags": []
   },
   "outputs": [
    {
     "data": {
      "text/plain": [
       "(-0.001, 1.908]    620\n",
       "(1.908, 3.76]      619\n",
       "(3.76, 21.858]     620\n",
       "Name: like_conversion_rate, dtype: int64"
      ]
     },
     "execution_count": 32,
     "metadata": {},
     "output_type": "execute_result"
    }
   ],
   "source": [
    "pd.qcut(videos.like_conversion_rate, 3).value_counts().sort_index()"
   ]
  },
  {
   "cell_type": "code",
   "execution_count": 33,
   "metadata": {
    "cell_id": "4c609970fa3d49d3b30be6cad0fc5600",
    "deepnote_cell_type": "code",
    "deepnote_to_be_reexecuted": false,
    "execution_millis": 48,
    "execution_start": 1669893782552,
    "source_hash": "3ff4da2",
    "tags": []
   },
   "outputs": [],
   "source": [
    "like_cat = pd.qcut(videos.like_conversion_rate, 3, labels=[\"Bad\", \"Neutral\", \"Good\"])\n",
    "videos[\"like_conversion_cat\"] = like_cat"
   ]
  },
  {
   "cell_type": "code",
   "execution_count": 62,
   "metadata": {
    "cell_id": "0cc1c298d6f3427f9cb92db001eac564",
    "deepnote_cell_type": "code",
    "deepnote_to_be_reexecuted": false,
    "execution_millis": 455,
    "execution_start": 1669897204493,
    "source_hash": "61cac105",
    "tags": []
   },
   "outputs": [
    {
     "data": {
      "text/html": [
       "<div>\n",
       "<style scoped>\n",
       "    .dataframe tbody tr th:only-of-type {\n",
       "        vertical-align: middle;\n",
       "    }\n",
       "\n",
       "    .dataframe tbody tr th {\n",
       "        vertical-align: top;\n",
       "    }\n",
       "\n",
       "    .dataframe thead th {\n",
       "        text-align: right;\n",
       "    }\n",
       "</style>\n",
       "<table border=\"1\" class=\"dataframe\">\n",
       "  <thead>\n",
       "    <tr style=\"text-align: right;\">\n",
       "      <th></th>\n",
       "      <th>title</th>\n",
       "      <th>video_id</th>\n",
       "      <th>published_at</th>\n",
       "      <th>keyword</th>\n",
       "      <th>likes</th>\n",
       "      <th>comments</th>\n",
       "      <th>views</th>\n",
       "      <th>avg_comm_len</th>\n",
       "      <th>title_len</th>\n",
       "      <th>avg_comm_sent</th>\n",
       "      <th>sent_title</th>\n",
       "      <th>month</th>\n",
       "      <th>like_conversion_rate</th>\n",
       "      <th>like_conversion_cat</th>\n",
       "    </tr>\n",
       "  </thead>\n",
       "  <tbody>\n",
       "    <tr>\n",
       "      <th>0</th>\n",
       "      <td>apple pay killing physical wallet eight years ...</td>\n",
       "      <td>wAZZ-UWGVHI</td>\n",
       "      <td>2022-08-23</td>\n",
       "      <td>tech</td>\n",
       "      <td>3407.0</td>\n",
       "      <td>672.0</td>\n",
       "      <td>135612.0</td>\n",
       "      <td>36.6</td>\n",
       "      <td>18</td>\n",
       "      <td>0.39121</td>\n",
       "      <td>-0.7003</td>\n",
       "      <td>8</td>\n",
       "      <td>2.512315</td>\n",
       "      <td>Neutral</td>\n",
       "    </tr>\n",
       "    <tr>\n",
       "      <th>1</th>\n",
       "      <td>expensive thing own.</td>\n",
       "      <td>b3x28s61q3c</td>\n",
       "      <td>2022-08-24</td>\n",
       "      <td>tech</td>\n",
       "      <td>76779.0</td>\n",
       "      <td>4306.0</td>\n",
       "      <td>1758063.0</td>\n",
       "      <td>44.6</td>\n",
       "      <td>6</td>\n",
       "      <td>0.69465</td>\n",
       "      <td>0.0000</td>\n",
       "      <td>8</td>\n",
       "      <td>4.367250</td>\n",
       "      <td>Good</td>\n",
       "    </tr>\n",
       "    <tr>\n",
       "      <th>2</th>\n",
       "      <td>new house gaming setup sick!</td>\n",
       "      <td>4mgePWWCAmA</td>\n",
       "      <td>2022-08-23</td>\n",
       "      <td>tech</td>\n",
       "      <td>63825.0</td>\n",
       "      <td>3338.0</td>\n",
       "      <td>1564007.0</td>\n",
       "      <td>29.4</td>\n",
       "      <td>7</td>\n",
       "      <td>0.35491</td>\n",
       "      <td>-0.5562</td>\n",
       "      <td>8</td>\n",
       "      <td>4.080864</td>\n",
       "      <td>Good</td>\n",
       "    </tr>\n",
       "    <tr>\n",
       "      <th>3</th>\n",
       "      <td>petrol vs liquid nitrogen | freezing experimen...</td>\n",
       "      <td>kXiYSI7H2b0</td>\n",
       "      <td>2022-08-23</td>\n",
       "      <td>tech</td>\n",
       "      <td>71566.0</td>\n",
       "      <td>1426.0</td>\n",
       "      <td>922918.0</td>\n",
       "      <td>12.7</td>\n",
       "      <td>16</td>\n",
       "      <td>0.20926</td>\n",
       "      <td>-0.1027</td>\n",
       "      <td>8</td>\n",
       "      <td>7.754318</td>\n",
       "      <td>Good</td>\n",
       "    </tr>\n",
       "    <tr>\n",
       "      <th>4</th>\n",
       "      <td>best back school tech 2022!</td>\n",
       "      <td>ErMwWXQxHp0</td>\n",
       "      <td>2022-08-08</td>\n",
       "      <td>tech</td>\n",
       "      <td>96513.0</td>\n",
       "      <td>5155.0</td>\n",
       "      <td>1855644.0</td>\n",
       "      <td>77.3</td>\n",
       "      <td>6</td>\n",
       "      <td>0.81395</td>\n",
       "      <td>0.6696</td>\n",
       "      <td>8</td>\n",
       "      <td>5.201051</td>\n",
       "      <td>Good</td>\n",
       "    </tr>\n",
       "  </tbody>\n",
       "</table>\n",
       "</div>"
      ],
      "text/plain": [
       "                                               title     video_id  \\\n",
       "0  apple pay killing physical wallet eight years ...  wAZZ-UWGVHI   \n",
       "1                               expensive thing own.  b3x28s61q3c   \n",
       "2                       new house gaming setup sick!  4mgePWWCAmA   \n",
       "3  petrol vs liquid nitrogen | freezing experimen...  kXiYSI7H2b0   \n",
       "4                        best back school tech 2022!  ErMwWXQxHp0   \n",
       "\n",
       "  published_at keyword    likes  comments      views  avg_comm_len  title_len  \\\n",
       "0   2022-08-23    tech   3407.0     672.0   135612.0          36.6         18   \n",
       "1   2022-08-24    tech  76779.0    4306.0  1758063.0          44.6          6   \n",
       "2   2022-08-23    tech  63825.0    3338.0  1564007.0          29.4          7   \n",
       "3   2022-08-23    tech  71566.0    1426.0   922918.0          12.7         16   \n",
       "4   2022-08-08    tech  96513.0    5155.0  1855644.0          77.3          6   \n",
       "\n",
       "   avg_comm_sent  sent_title  month  like_conversion_rate like_conversion_cat  \n",
       "0        0.39121     -0.7003      8              2.512315             Neutral  \n",
       "1        0.69465      0.0000      8              4.367250                Good  \n",
       "2        0.35491     -0.5562      8              4.080864                Good  \n",
       "3        0.20926     -0.1027      8              7.754318                Good  \n",
       "4        0.81395      0.6696      8              5.201051                Good  "
      ]
     },
     "execution_count": 62,
     "metadata": {},
     "output_type": "execute_result"
    }
   ],
   "source": [
    "videos_final = videos.copy()\n",
    "videos_final.head()"
   ]
  },
  {
   "cell_type": "markdown",
   "metadata": {
    "cell_id": "709c1ab14d9c4a52b500f66a834c6c38",
    "deepnote_cell_type": "markdown"
   },
   "source": [
    "# <div style='color:white;background-color:#FF0000;padding:10px 20px;font-size:25px;font-weight:bold'>EDA</div>"
   ]
  },
  {
   "cell_type": "markdown",
   "metadata": {
    "cell_id": "b5b2ff001fba4cb0919837c3b93f81ff",
    "deepnote_cell_type": "markdown",
    "tags": []
   },
   "source": [
    "##### Heatmap:\n",
    "* Variables like views, comments, and likes have high correlation\n",
    "* Most variables have little to no correlation"
   ]
  },
  {
   "cell_type": "code",
   "execution_count": 35,
   "metadata": {
    "cell_id": "47108e627ccd4a8dac08a3f77cc8e32b",
    "deepnote_cell_type": "code",
    "deepnote_to_be_reexecuted": false,
    "execution_millis": 64,
    "execution_start": 1669893782678,
    "source_hash": "e4b7ab15",
    "tags": []
   },
   "outputs": [],
   "source": [
    "correlation_df = videos_final\n",
    "df = pd.DataFrame(correlation_df.corr().unstack().sort_values(ascending=False, key=abs))\n",
    "x = df[df[0] != 1].drop_duplicates().reset_index()"
   ]
  },
  {
   "cell_type": "code",
   "execution_count": 36,
   "metadata": {
    "cell_id": "d65f31074b734c4d87e8b04429aa6f4f",
    "deepnote_cell_type": "code",
    "deepnote_to_be_reexecuted": false,
    "execution_millis": 778,
    "execution_start": 1669893782742,
    "source_hash": "38f44dcd",
    "tags": []
   },
   "outputs": [
    {
     "data": {
      "image/png": "[encoded data removed]",
      "text/plain": [
       "<Figure size 792x792 with 2 Axes>"
      ]
     },
     "metadata": {
      "needs_background": "light"
     },
     "output_type": "display_data"
    }
   ],
   "source": [
    "plt.figure(figsize=(11, 11))\n",
    "sns.heatmap(correlation_df.corr(), cmap=\"coolwarm\", annot=True, fmt=\"0.1g\", vmin=-0.5, vmax=1, square=True)\n",
    "plt.title('Heatmap of Correlation Coefficients')\n",
    "plt.show()"
   ]
  },
  {
   "cell_type": "markdown",
   "metadata": {
    "cell_id": "cb168196c9d54abeb3fb41ff392996a0",
    "deepnote_cell_type": "markdown",
    "tags": []
   },
   "source": [
    "##### EDA for Title Length:\n",
    "* Most titles seem to be around 7-13 in length no matter the like conversion rate\n",
    "* Videos with a neutral conversion rate have a smaller distribution of title length\n",
    "* Videos on either end have similar distribution"
   ]
  },
  {
   "cell_type": "code",
   "execution_count": 37,
   "metadata": {
    "cell_id": "d900dd7b42024ef5acb4f6a0b6586709",
    "deepnote_cell_type": "code",
    "deepnote_to_be_reexecuted": false,
    "execution_millis": 312,
    "execution_start": 1669893783528,
    "source_hash": "270c96c7",
    "tags": []
   },
   "outputs": [
    {
     "data": {
      "text/plain": [
       "Text(0, 0.5, 'Title Length')"
      ]
     },
     "execution_count": 37,
     "metadata": {},
     "output_type": "execute_result"
    },
    {
     "data": {
      "image/png": "[encoded data removed]",
      "text/plain": [
       "<Figure size 432x288 with 1 Axes>"
      ]
     },
     "metadata": {
      "needs_background": "light"
     },
     "output_type": "display_data"
    }
   ],
   "source": [
    "ax = sns.boxplot(data=videos_final, x=\"like_conversion_cat\", y=\"title_len\", linewidth=3, palette='YlOrRd_r')\n",
    "plt.title('Distribution of Title Length per Like Conversion Rate')\n",
    "plt.xlabel(\"Like Conversion Rate\")\n",
    "plt.ylabel(\"Title Length\")"
   ]
  },
  {
   "cell_type": "markdown",
   "metadata": {
    "cell_id": "0a6ff24b88fc4e28bcf220bccc5d3d8e",
    "deepnote_cell_type": "markdown",
    "tags": []
   },
   "source": [
    "##### EDA for Average Comment Length:\n",
    "* When looking at the title sentiment score, the distribution for the average comment length between the three categories are similar"
   ]
  },
  {
   "cell_type": "code",
   "execution_count": 38,
   "metadata": {
    "cell_id": "67ad8f54c68644679150ba78f0fbd374",
    "deepnote_cell_type": "code",
    "deepnote_to_be_reexecuted": false,
    "execution_millis": 313,
    "execution_start": 1669893783845,
    "source_hash": "254fc079",
    "tags": []
   },
   "outputs": [
    {
     "data": {
      "text/plain": [
       "Text(0, 0.5, 'Average Comment Length')"
      ]
     },
     "execution_count": 38,
     "metadata": {},
     "output_type": "execute_result"
    },
    {
     "data": {
      "image/png": "[encoded data removed]",
      "text/plain": [
       "<Figure size 432x288 with 1 Axes>"
      ]
     },
     "metadata": {
      "needs_background": "light"
     },
     "output_type": "display_data"
    }
   ],
   "source": [
    "ax = sns.boxplot(data=videos_final, x=\"like_conversion_cat\", y=\"avg_comm_len\", linewidth=3, palette='YlOrRd_r')\n",
    "plt.title('Distribution of Average Comment Length per Like Conversion Rate')\n",
    "plt.xlabel(\"Like Conversion Rate\")\n",
    "plt.ylabel(\"Average Comment Length\")"
   ]
  },
  {
   "cell_type": "markdown",
   "metadata": {
    "cell_id": "3ffa414aa6484a30b70d167373bc2e57",
    "deepnote_cell_type": "markdown",
    "tags": []
   },
   "source": [
    "##### EDA for Average Comment Sentiment Score:\n",
    "* When looking at the average comment sentiment score, videos in the bad like conversion rate category have a wider distribution\n",
    "* The other two categories have similar distributions"
   ]
  },
  {
   "cell_type": "code",
   "execution_count": 39,
   "metadata": {
    "cell_id": "372d27badb3b4d0fb69cc8ebd506450a",
    "deepnote_cell_type": "code",
    "deepnote_to_be_reexecuted": false,
    "execution_millis": 383,
    "execution_start": 1669893784163,
    "source_hash": "f5a91b71",
    "tags": []
   },
   "outputs": [
    {
     "data": {
      "text/plain": [
       "Text(0, 0.5, 'Average Comment Sentiment')"
      ]
     },
     "execution_count": 39,
     "metadata": {},
     "output_type": "execute_result"
    },
    {
     "data": {
      "image/png": "[encoded data removed]",
      "text/plain": [
       "<Figure size 432x288 with 1 Axes>"
      ]
     },
     "metadata": {
      "needs_background": "light"
     },
     "output_type": "display_data"
    }
   ],
   "source": [
    "ax = sns.boxplot(data=videos_final, x=\"like_conversion_cat\", y=\"avg_comm_sent\", linewidth=3, palette='YlOrRd_r')\n",
    "plt.title('Distribution of Average Comment Sentiment per Like Conversion Rate')\n",
    "plt.xlabel(\"Like Conversion Rate\")\n",
    "plt.ylabel(\"Average Comment Sentiment\")"
   ]
  },
  {
   "cell_type": "markdown",
   "metadata": {
    "cell_id": "52f3bd42b9834fa9abd4357ae6a6af8c",
    "deepnote_cell_type": "markdown",
    "tags": []
   },
   "source": [
    "##### EDA for Title Sentiment Score:\n",
    "* When looking at the title sentiment score the three distributions are significantly different\n",
    "* Videos with a bad like conversion rate have a wide distributions\n",
    "* Videos with a neutral like conversion rate have title sentiment scores that are too spread out to generate a boxplot\n",
    "* Videos with a good like conversion rate have a smaller distribution\n"
   ]
  },
  {
   "cell_type": "code",
   "execution_count": 40,
   "metadata": {
    "cell_id": "a6cf96a3f1d54154a51d0c656c2a9587",
    "deepnote_cell_type": "code",
    "deepnote_to_be_reexecuted": false,
    "execution_millis": 338,
    "execution_start": 1669893784549,
    "source_hash": "e8473656",
    "tags": []
   },
   "outputs": [
    {
     "data": {
      "text/plain": [
       "Text(0, 0.5, 'Title Sentiment')"
      ]
     },
     "execution_count": 40,
     "metadata": {},
     "output_type": "execute_result"
    },
    {
     "data": {
      "image/png": "[encoded data removed]",
      "text/plain": [
       "<Figure size 432x288 with 1 Axes>"
      ]
     },
     "metadata": {
      "needs_background": "light"
     },
     "output_type": "display_data"
    }
   ],
   "source": [
    "ax = sns.boxplot(data=videos_final, x=\"like_conversion_cat\", y=\"sent_title\", linewidth=3, palette='YlOrRd_r')\n",
    "plt.title('Distribution of Title Sentiment per Like Conversion Rate')\n",
    "plt.xlabel(\"Like Conversion Rate\")\n",
    "plt.ylabel(\"Title Sentiment\")"
   ]
  },
  {
   "cell_type": "markdown",
   "metadata": {
    "cell_id": "a84cb6e101cf430fa377d98886157d91",
    "deepnote_cell_type": "markdown",
    "tags": []
   },
   "source": [
    "##### EDA for Month:\n",
    "* There is a lot of videos from the dataset created in August\n",
    "* A high proportion of the videos produced in August are in the good like conversion category\n",
    "* The rest of the months do not follow this pattern"
   ]
  },
  {
   "cell_type": "code",
   "execution_count": 41,
   "metadata": {
    "cell_id": "1cb8acbc39254b1fa6fdb386f8c8c755",
    "deepnote_cell_type": "code",
    "deepnote_to_be_reexecuted": false,
    "execution_millis": 1625,
    "execution_start": 1669893784899,
    "source_hash": "3f067a03",
    "tags": []
   },
   "outputs": [
    {
     "data": {
      "image/png": "[encoded data removed]",
      "text/plain": [
       "<Figure size 432x288 with 1 Axes>"
      ]
     },
     "metadata": {
      "needs_background": "light"
     },
     "output_type": "display_data"
    }
   ],
   "source": [
    "ax = sns.countplot(data=videos_final, x=\"month\", hue=\"like_conversion_cat\",palette='YlOrRd_r')\n",
    "plt.xlabel(\"Month\") \n",
    "plt.ylabel(\"Count\")\n",
    "plt.title(\"Videos Produced Each Month per Like Conversion Category\")\n",
    "plt.legend(title=\"Like Conversion Category\")\n",
    "ax.set_xticklabels(('Jan','Feb','Mar','Apr','May','Jun','Jul','Aug', 'Sep', 'Oct', 'Nov', 'Dec'))\n",
    "plt.show()"
   ]
  },
  {
   "cell_type": "markdown",
   "metadata": {
    "cell_id": "55be7349d1ca42a8a63814e2a74c8e17",
    "deepnote_cell_type": "markdown",
    "tags": []
   },
   "source": [
    "##### EDA for Keyword:\n",
    "* There is a wide range of like conversion rate values per Keyword\n",
    "* Crypto, Reaction, and Gaming are the top three by almost a full percent\n",
    "* Some of the more broad topics like sports, news, and animals are towards the bottom"
   ]
  },
  {
   "cell_type": "code",
   "execution_count": 68,
   "metadata": {
    "cell_id": "1196a67f6fad4abb89cd3f41916f3640",
    "deepnote_cell_type": "code",
    "deepnote_to_be_reexecuted": false,
    "execution_millis": 2523,
    "execution_start": 1669897249621,
    "source_hash": "3a6ccbb5",
    "tags": []
   },
   "outputs": [
    {
     "data": {
      "image/png": "[encoded data removed]",
      "text/plain": [
       "<Figure size 720x576 with 1 Axes>"
      ]
     },
     "metadata": {},
     "output_type": "display_data"
    }
   ],
   "source": [
    "viz6 = videos_final.groupby('keyword')['like_conversion_rate'].mean().sort_values(ascending=False)\n",
    "viz6 = pd.DataFrame(viz6).reset_index()\n",
    "sns.barplot(data=viz6, x='keyword', y='like_conversion_rate', palette='YlOrRd_r')\n",
    "plt.xticks(rotation=90, ha='center')\n",
    "sns.set(rc={'figure.figsize': (10, 8)})\n",
    "plt.xlabel('Keyword')\n",
    "plt.ylabel('Average Like Conversion Rate')\n",
    "plt.title(\"Barplot of Average Like Conversion Rate for Each Keyword\")\n",
    "plt.show()"
   ]
  },
  {
   "cell_type": "markdown",
   "metadata": {
    "cell_id": "bc2845b5fdb0469f81de05f4f0308321",
    "deepnote_cell_type": "markdown",
    "tags": []
   },
   "source": [
    "# <div style='color:white;background-color:#FF0000;padding:10px 20px;font-size:25px;font-weight:bold'>Importing Machine Learning Libraries</div>"
   ]
  },
  {
   "cell_type": "code",
   "execution_count": 43,
   "metadata": {
    "cell_id": "2c92f9e2cef54900853cfd744da07d66",
    "deepnote_cell_type": "code",
    "deepnote_to_be_reexecuted": false,
    "execution_millis": 1,
    "execution_start": 1669895249709,
    "source_hash": "c4765dba",
    "tags": []
   },
   "outputs": [],
   "source": [
    "from sklearn import manifold\n",
    "from sklearn.pipeline import Pipeline\n",
    "from sklearn.model_selection import train_test_split\n",
    "from sklearn.metrics import accuracy_score\n",
    "from sklearn.metrics import classification_report, confusion_matrix\n",
    "from sklearn.model_selection import StratifiedShuffleSplit\n",
    "from sklearn.compose import ColumnTransformer\n",
    "from sklearn.preprocessing import OneHotEncoder\n",
    "from sklearn.preprocessing import StandardScaler\n",
    "\n",
    "from sklearn.linear_model import LinearRegression\n",
    "from sklearn.linear_model import LogisticRegression\n",
    "from sklearn.preprocessing import StandardScaler\n",
    "from sklearn.datasets import make_moons, make_circles, make_classification\n",
    "from sklearn.neural_network import MLPClassifier\n",
    "from sklearn.neighbors import KNeighborsClassifier\n",
    "from sklearn.svm import SVC\n",
    "from sklearn.gaussian_process import GaussianProcessClassifier\n",
    "from sklearn.gaussian_process.kernels import RBF\n",
    "from sklearn.tree import DecisionTreeClassifier\n",
    "from sklearn.ensemble import RandomForestClassifier, AdaBoostClassifier\n",
    "from sklearn.naive_bayes import GaussianNB\n",
    "from sklearn.discriminant_analysis import QuadraticDiscriminantAnalysis"
   ]
  },
  {
   "cell_type": "markdown",
   "metadata": {
    "cell_id": "04a880412d9f47508d5c9f246d74b896",
    "deepnote_cell_type": "markdown"
   },
   "source": [
    "# <div style='color:white;background-color:#FF0000;padding:10px 20px;font-size:25px;font-weight:bold'>Machine Learning</div>"
   ]
  },
  {
   "cell_type": "markdown",
   "metadata": {
    "cell_id": "4e0bf83898b54434a830cfefe3a66259",
    "deepnote_cell_type": "markdown",
    "tags": []
   },
   "source": [
    "### Linear Regression Model"
   ]
  },
  {
   "cell_type": "code",
   "execution_count": 44,
   "metadata": {
    "cell_id": "f6a51786dcff4406a26610cca46ce98f",
    "deepnote_cell_type": "code",
    "deepnote_to_be_reexecuted": false,
    "execution_millis": 9,
    "execution_start": 1669895765157,
    "source_hash": "4cead864",
    "tags": []
   },
   "outputs": [],
   "source": [
    "videos_final = videos.copy()\n",
    "videos_final.drop([\"title\", \"video_id\", \"likes\", \"views\", \"published_at\", \"like_conversion_cat\"], axis=1, inplace=True)"
   ]
  },
  {
   "cell_type": "markdown",
   "metadata": {
    "cell_id": "38ece962b36142978f23719044cd6b06",
    "deepnote_cell_type": "markdown",
    "tags": []
   },
   "source": [
    "**Stratified Shuffle Split**\n",
    "\n",
    "We decided to use a stratified shuffle split on the keyword column because during the EDA section we discovered that there was a vast range of average like conversion rates given a keyword value. Since there are no more than 50 rows of each keyword value, we decided it was necessary to complete a stratified shuffle split to make sure the train and test data sets have an accurate distribution of the different keywords."
   ]
  },
  {
   "cell_type": "code",
   "execution_count": 45,
   "metadata": {
    "cell_id": "53894b8c3af94a67b476eaf05f821046",
    "deepnote_cell_type": "code",
    "deepnote_to_be_reexecuted": false,
    "execution_millis": 16,
    "execution_start": 1669895765653,
    "source_hash": "c27f1465",
    "tags": []
   },
   "outputs": [
    {
     "data": {
      "text/plain": [
       "physics             50\n",
       "tutorial            50\n",
       "game development    50\n",
       "cnn                 50\n",
       "data science        50\n",
       "trolling            50\n",
       "crypto              50\n",
       "mrbeast             50\n",
       "interview           50\n",
       "cubes               49\n",
       "marvel              49\n",
       "reaction            49\n",
       "sports              49\n",
       "history             49\n",
       "asmr                49\n",
       "sat                 49\n",
       "computer science    48\n",
       "food                48\n",
       "minecraft           48\n",
       "tech                48\n",
       "xbox                48\n",
       "how-to              48\n",
       "nintendo            48\n",
       "chess               47\n",
       "biology             47\n",
       "music               46\n",
       "business            46\n",
       "machine learning    46\n",
       "literature          46\n",
       "mukbang             44\n",
       "google              44\n",
       "bed                 44\n",
       "apple               42\n",
       "gaming              42\n",
       "movies              41\n",
       "lofi                40\n",
       "news                39\n",
       "finance             39\n",
       "animals             38\n",
       "education           24\n",
       "mathchemistry       15\n",
       "Name: keyword, dtype: int64"
      ]
     },
     "execution_count": 45,
     "metadata": {},
     "output_type": "execute_result"
    }
   ],
   "source": [
    "videos_final.keyword.value_counts()"
   ]
  },
  {
   "cell_type": "code",
   "execution_count": 46,
   "metadata": {
    "cell_id": "c48e9f353fa2489694e4da119638bec6",
    "deepnote_cell_type": "code",
    "deepnote_to_be_reexecuted": false,
    "execution_millis": 18,
    "execution_start": 1669895765692,
    "source_hash": "d5694a8f",
    "tags": []
   },
   "outputs": [
    {
     "data": {
      "text/plain": [
       "(1487, 8)"
      ]
     },
     "metadata": {},
     "output_type": "display_data"
    },
    {
     "data": {
      "text/plain": [
       "(372, 8)"
      ]
     },
     "metadata": {},
     "output_type": "display_data"
    }
   ],
   "source": [
    "from sklearn.model_selection import StratifiedShuffleSplit\n",
    "\n",
    "sss = StratifiedShuffleSplit(n_splits=1, test_size=0.2, random_state=42)\n",
    "for train_index, test_index in sss.split(videos_final, videos_final['keyword']):\n",
    "    strat_train_set = videos_final.iloc[train_index]\n",
    "    strat_test_set = videos_final.iloc[test_index]\n",
    "\n",
    "display(strat_train_set.shape, strat_test_set.shape)"
   ]
  },
  {
   "cell_type": "code",
   "execution_count": 47,
   "metadata": {
    "cell_id": "30a8c5e92f35473180f2f91a19833683",
    "deepnote_cell_type": "code",
    "deepnote_to_be_reexecuted": false,
    "execution_millis": 8,
    "execution_start": 1669895768263,
    "source_hash": "ab7c315b",
    "tags": []
   },
   "outputs": [],
   "source": [
    "X = strat_train_set.drop('like_conversion_rate', axis=1)\n",
    "y = strat_train_set['like_conversion_rate']\n",
    "\n",
    "num_attribs = ['comments', 'avg_comm_len', 'sent_title', 'title_len', 'avg_comm_len']\n",
    "\n",
    "cat_attribs = ['keyword', 'month']"
   ]
  },
  {
   "cell_type": "code",
   "execution_count": 48,
   "metadata": {
    "cell_id": "a6cc45fe13b84acba7fc509941916254",
    "deepnote_cell_type": "code",
    "deepnote_to_be_reexecuted": false,
    "execution_millis": 14,
    "execution_start": 1669895768717,
    "source_hash": "9a72f784",
    "tags": []
   },
   "outputs": [],
   "source": [
    "full_pipeline = ColumnTransformer([\n",
    "        (\"num\", StandardScaler(), num_attribs),\n",
    "        (\"cat\", OneHotEncoder(), cat_attribs),\n",
    "    ])\n",
    "\n",
    "prep = full_pipeline.fit_transform(X)"
   ]
  },
  {
   "cell_type": "code",
   "execution_count": 49,
   "metadata": {
    "cell_id": "e11edc554ea64de588f7b36fc234cef6",
    "deepnote_cell_type": "code",
    "deepnote_to_be_reexecuted": false,
    "execution_millis": 987,
    "execution_start": 1669895770261,
    "source_hash": "7d8285e4",
    "tags": []
   },
   "outputs": [
    {
     "data": {
      "text/plain": [
       "0.3651258191235991"
      ]
     },
     "execution_count": 49,
     "metadata": {},
     "output_type": "execute_result"
    }
   ],
   "source": [
    "lm = LinearRegression()\n",
    "lm.fit(prep, y)\n",
    "lm.score(prep, y)"
   ]
  },
  {
   "cell_type": "markdown",
   "metadata": {
    "cell_id": "2fe2ada4fc7540f782853e349a3e1f0e",
    "deepnote_cell_type": "markdown",
    "tags": []
   },
   "source": [
    "**Linear Regression Score**\n",
    "\n",
    "Our Linear Regression model has an R^2 coefficient of 0.365, indicating that around 36.5% of the variability observed in the like conversion rate value can be explained by the regression model."
   ]
  },
  {
   "cell_type": "code",
   "execution_count": 50,
   "metadata": {
    "cell_id": "56ad82f50d454f48ba9f98219171705a",
    "deepnote_cell_type": "code",
    "deepnote_to_be_reexecuted": false,
    "execution_millis": 44,
    "execution_start": 1669895772954,
    "source_hash": "6ff8d728",
    "tags": []
   },
   "outputs": [],
   "source": [
    "test_y = strat_test_set['like_conversion_rate']\n",
    "test_X = strat_test_set.drop('like_conversion_rate', axis=1)\n",
    "\n",
    "test_prep = full_pipeline.transform(test_X)"
   ]
  },
  {
   "cell_type": "code",
   "execution_count": 51,
   "metadata": {
    "cell_id": "d6263995b00949d892154ab5a764fd6e",
    "deepnote_cell_type": "code",
    "deepnote_to_be_reexecuted": false,
    "execution_millis": 49,
    "execution_start": 1669895774963,
    "source_hash": "a0a35c90",
    "tags": []
   },
   "outputs": [
    {
     "data": {
      "text/plain": [
       "3.9065527570492597"
      ]
     },
     "execution_count": 51,
     "metadata": {},
     "output_type": "execute_result"
    }
   ],
   "source": [
    "from sklearn.metrics import mean_squared_error\n",
    "mse = mean_squared_error(test_y, lm.predict(test_prep))\n",
    "mse"
   ]
  },
  {
   "cell_type": "code",
   "execution_count": 52,
   "metadata": {
    "cell_id": "23396c5b82c64575a5985e4ac53bb17d",
    "deepnote_cell_type": "code",
    "deepnote_to_be_reexecuted": false,
    "execution_millis": 1,
    "execution_start": 1669895776258,
    "source_hash": "7276372a",
    "tags": []
   },
   "outputs": [
    {
     "data": {
      "text/plain": [
       "1.9765001282694772"
      ]
     },
     "execution_count": 52,
     "metadata": {},
     "output_type": "execute_result"
    }
   ],
   "source": [
    "rmse = np.sqrt(mse)\n",
    "rmse"
   ]
  },
  {
   "cell_type": "code",
   "execution_count": 53,
   "metadata": {
    "cell_id": "60920b1aaa67498fac0405736dfe2f77",
    "deepnote_cell_type": "code",
    "deepnote_to_be_reexecuted": false,
    "execution_millis": 579,
    "execution_start": 1669894346063,
    "source_hash": "43f1f508",
    "tags": []
   },
   "outputs": [
    {
     "data": {
      "text/plain": [
       "count    1859.000000\n",
       "mean        3.364707\n",
       "std         2.569841\n",
       "min         0.000000\n",
       "25%         1.522041\n",
       "50%         2.755826\n",
       "75%         4.450807\n",
       "max        21.857510\n",
       "Name: like_conversion_rate, dtype: float64"
      ]
     },
     "execution_count": 53,
     "metadata": {},
     "output_type": "execute_result"
    }
   ],
   "source": [
    "videos_final.like_conversion_rate.describe()"
   ]
  },
  {
   "cell_type": "markdown",
   "metadata": {
    "cell_id": "a6f31e15789d4313aa4f60fe3a286cbc",
    "deepnote_cell_type": "markdown",
    "tags": []
   },
   "source": [
    "**Root Mean Squared Error**\n",
    "\n",
    "Our root mean squared error value came out to 1.976, which means that on average our predictions from the linear regression model of like conversion rate deviate from the actual value by 1.976. This value falls slightly below the standard deviation of the like conversion rate distribution at 2.569. While the model isn't extremely accurate, it performs slightly better on average than picking a random value from the distribution."
   ]
  },
  {
   "cell_type": "markdown",
   "metadata": {
    "cell_id": "bb026532f48c4f9c83c29607e3131a5d",
    "deepnote_cell_type": "markdown",
    "tags": []
   },
   "source": [
    "### Classification Models"
   ]
  },
  {
   "cell_type": "code",
   "execution_count": 54,
   "metadata": {
    "cell_id": "665fd4e28ab94f578c8520fa299ac828",
    "deepnote_cell_type": "code",
    "deepnote_to_be_reexecuted": false,
    "execution_millis": 4,
    "execution_start": 1669896405201,
    "source_hash": "11d521aa",
    "tags": []
   },
   "outputs": [],
   "source": [
    "videos_final = videos.copy()\n",
    "videos_final.drop([\"title\", \"video_id\", \"likes\", \"views\", \"published_at\", \"like_conversion_rate\"], axis=1, inplace=True)"
   ]
  },
  {
   "cell_type": "code",
   "execution_count": 55,
   "metadata": {
    "cell_id": "7b6d56eeb51c40fea0297c71c10c69ed",
    "deepnote_cell_type": "code",
    "deepnote_to_be_reexecuted": false,
    "execution_millis": 31,
    "execution_start": 1669896405667,
    "source_hash": "34866916",
    "tags": []
   },
   "outputs": [],
   "source": [
    "sss = StratifiedShuffleSplit(n_splits=1, test_size=0.2, random_state=42)\n",
    "for train_index, test_index in sss.split(videos_final, videos_final['keyword']):\n",
    "    strat_train_set = videos_final.iloc[train_index]\n",
    "    strat_test_set = videos_final.iloc[test_index]\n",
    "\n",
    "X_train = strat_train_set.drop('like_conversion_cat', axis=1)\n",
    "y_train = strat_train_set['like_conversion_cat']\n",
    "X_test = strat_test_set.drop('like_conversion_cat', axis=1)\n",
    "y_test = strat_test_set['like_conversion_cat']"
   ]
  },
  {
   "cell_type": "code",
   "execution_count": 56,
   "metadata": {
    "cell_id": "ab3bfdb57010447f9117b441e7119b71",
    "deepnote_cell_type": "code",
    "deepnote_to_be_reexecuted": false,
    "execution_millis": 43,
    "execution_start": 1669896406279,
    "source_hash": "f9915045",
    "tags": []
   },
   "outputs": [],
   "source": [
    "num_attribs = ['comments', 'avg_comm_len', 'sent_title', 'title_len', 'avg_comm_len']\n",
    "cat_attribs = ['keyword', 'month']\n",
    "\n",
    "full_pipeline = ColumnTransformer([\n",
    "        (\"num\", StandardScaler(), num_attribs),\n",
    "        (\"cat\", OneHotEncoder(), cat_attribs),\n",
    "    ])\n",
    "\n",
    "train_X_prepared = full_pipeline.fit_transform(X_train)\n",
    "test_X_prepared = full_pipeline.transform(X_test)"
   ]
  },
  {
   "cell_type": "code",
   "execution_count": 57,
   "metadata": {
    "cell_id": "b79f4a7ebc404db49635dd2655b9f18c",
    "deepnote_cell_type": "code",
    "deepnote_to_be_reexecuted": false,
    "execution_millis": 8,
    "execution_start": 1669896407005,
    "source_hash": "142e3b3e",
    "tags": []
   },
   "outputs": [],
   "source": [
    "names = [\"Nearest Neighbors\", \"Linear SVM\", \"RBF SVM\", \n",
    "         \"Decision Tree\", \"Random Forest\", \"Neural Net\", \"AdaBoost\"]\n",
    "\n",
    "classifiers = [\n",
    "    KNeighborsClassifier(3),\n",
    "    SVC(kernel=\"linear\", C=0.025),\n",
    "    SVC(gamma=2, C=1),\n",
    "    DecisionTreeClassifier(max_depth=5),\n",
    "    RandomForestClassifier(max_depth=5, n_estimators=10, max_features=1),\n",
    "    MLPClassifier(alpha=1, max_iter=1000),\n",
    "    AdaBoostClassifier(),\n",
    "    ]"
   ]
  },
  {
   "cell_type": "code",
   "execution_count": 58,
   "metadata": {
    "cell_id": "a3dd9a8bf72e44b7869336aaa2899ca2",
    "deepnote_cell_type": "code",
    "deepnote_to_be_reexecuted": false,
    "execution_millis": 10089,
    "execution_start": 1669896408201,
    "source_hash": "d67377da",
    "tags": []
   },
   "outputs": [
    {
     "name": "stdout",
     "output_type": "stream",
     "text": [
      "Nearest Neighbors Accuracy: 50.54%\n",
      "Linear SVM Accuracy: 52.42%\n",
      "RBF SVM Accuracy: 47.04%\n",
      "Decision Tree Accuracy: 50.27%\n",
      "Random Forest Accuracy: 50.54%\n",
      "Neural Net Accuracy: 59.68%\n",
      "AdaBoost Accuracy: 54.03%\n"
     ]
    }
   ],
   "source": [
    "X_train = train_X_prepared\n",
    "X_test = test_X_prepared\n",
    "\n",
    "for name, clf in zip(names, classifiers):\n",
    "    clf.fit(X_train, y_train)\n",
    "    y_pred = clf.predict(X_test)\n",
    "    \n",
    "    # evaluate predictions\n",
    "    accuracy = clf.score(X_test, y_test)\n",
    "    print(\"%s Accuracy: %.2f%%\" % (name,accuracy * 100.0))"
   ]
  },
  {
   "cell_type": "markdown",
   "metadata": {
    "cell_id": "4b09a69170c942c9bf741782786d59c8",
    "deepnote_cell_type": "markdown",
    "tags": []
   },
   "source": [
    "**Interpreting Model Accuracy**\n",
    "\n",
    "The most accurate model we created is the neural net model which has an average accuracy of classification of 59.68%. While the model isn't extremely accurate in predicting the like conversion category, more often than not, it predicts the correct category that a video falls into. The neural net model is significantly more accurate than guessing a like conversion category at random. It is not a suprise that the neural net classifier is more accurate than the other classifiers we tried, as neural nets are much more complex models, allowing them to handle more nuanced classifications. Since we saw little correlation between most features and like conversion rate, it makes sense that the neural net classification performed the strongest at predicting like conversion categories.\n",
    "\n",
    "The least accurate model is the RBF SVM. This is not a suprise, as our dataset does not make much sense to use with support vector machine models. Unlike the neural net classifier, these types of models perform better when there is a clear margin of seperation between classes, minimal noise, and are used on smaller data sets. "
   ]
  },
  {
   "cell_type": "code",
   "execution_count": 59,
   "metadata": {
    "cell_id": "ab5faa8d8f4a4ae191d6e72560531e97",
    "deepnote_cell_type": "code",
    "deepnote_to_be_reexecuted": false,
    "execution_millis": 25,
    "execution_start": 1669896467085,
    "source_hash": "3c01b380",
    "tags": []
   },
   "outputs": [],
   "source": [
    "X = videos_final.drop('like_conversion_cat', axis=1)\n",
    "y = videos_final['like_conversion_cat']\n",
    "\n",
    "X_prepared = full_pipeline.fit_transform(X)"
   ]
  },
  {
   "cell_type": "code",
   "execution_count": 60,
   "metadata": {
    "cell_id": "7e6b4363602446f3ba00ceeb24b3488a",
    "deepnote_cell_type": "code",
    "deepnote_to_be_reexecuted": false,
    "execution_millis": 8839,
    "execution_start": 1669896467496,
    "source_hash": "d311ee90",
    "tags": []
   },
   "outputs": [
    {
     "data": {
      "text/plain": [
       "MLPClassifier(alpha=1, max_iter=1000)"
      ]
     },
     "execution_count": 60,
     "metadata": {},
     "output_type": "execute_result"
    }
   ],
   "source": [
    "classifier = MLPClassifier(alpha=1, max_iter=1000)\n",
    "classifier.fit(X_prepared, y)"
   ]
  },
  {
   "cell_type": "markdown",
   "metadata": {
    "cell_id": "7f79ccee4a5144d9a1487ec74d1b580a",
    "deepnote_cell_type": "markdown",
    "tags": []
   },
   "source": [
    "# <div style='color:white;background-color:#FF0000;padding:10px 20px;font-size:25px;font-weight:bold'>Summary</div>"
   ]
  },
  {
   "cell_type": "markdown",
   "metadata": {
    "cell_id": "7bbf040130564fcda490e1a2f0ed980b",
    "deepnote_cell_type": "markdown",
    "tags": []
   },
   "source": [
    "#### Findings:\n",
    "Throughout our EDA process we realized that not many of our variables were correlated with eachother. The heatmap shows that only a couple variables had higher than 0.2 correlation. In addition to this, the distribution of our numerical variables did not vary much between the like conversion rate categories. The only varaible that seemed significant throughout the visualizations was the keyword variable. While this was suprising at first, it caused us to reevaluate the dataset we were working with. Anyone who has access to an electronic device can access Youtube. People may not have any desire for liking or leaving a comment on a video. With that being said, our ML classification model ended up being around 60% accurate. This was suprising given the correlation of the variables. As mentioned previously, while this is not an extremely high score, it is much more accurate than guessing at random, and given the dataset we were working with, we are satisfied with the results.\n",
    "\n",
    "We fit many different models on to our dataset and found that Neural Net Classification was the best in classifying the Youtube videos into the three categories. We also found that `crypto`, `reaction`, and `gaming` keywords have the highest `like_conversion_rate` out of all other keywords. Overall we found that many of the metrics we defined have some influence in determining a good, nuetral, or bad video. For example, we found that the higher the comment length and sentiment score the better the video performed slightly. Also, shorter title lengths on average resulted in a slightly better like conversion rate. Also, videos posted in August performed much better on average than other months. Overall, these variables were very similar to each other and in order to see major differences in the future we may have to get rid of outliers and find more evenly distributed data."
   ]
  },
  {
   "cell_type": "markdown",
   "metadata": {
    "cell_id": "30e608eebbe5451a9a1387c66392adc2",
    "deepnote_cell_type": "markdown",
    "tags": []
   },
   "source": [
    "#### Challenges and Recommendations:\n",
    "* Deciding project topic\n",
    "    * We took too much time deciding on what we were going to do our project on. If we would have had a more efficient brainstorming approach it would have saved us a significant amount of time.\n",
    "* Cleaning our data multiple times throughout the project\n",
    "    * When we first started our project we did not do much initial EDA. A consequence of this is that we had to go back and re-clean our data multiple times throughout the project. For example, we did not realize that there were duplicate values in our dataset until we were about to create our model. If we would would have dont an throughout initial EDA then it would have saved us time.\n",
    "* Inefficient feature engineering\n",
    "    * When we first started feature engineering we were creating any column that came to mind. This was a waste of time and energy. We should have sat down as a time and brainstomed a list of features that might have been interesting instead of implementing them right away.\n",
    "    * When creating the like_conversion_rate we should have taken into account that people can like a video only once, but are able to watch the video multiple times. This influenced our model slightly. We knew we did not want to just do like count because that might have bias toward people with more subscribers, so we should have brainstormed more about what we wanted to find to classify a good and bad video.\n",
    "* Not much correlation\n",
    "    * Throughout our EDA and ML model we realized that our variables did not have much correlation. Even though this is a finding in itself, it would have been more rewarding to work on a topic that had more correlation. We should have done some initial correlation analysis on multiple datasets to find one that might be more rewarding.\n",
    "\n",
    "In the future, for this specific project it might be useful to bring in outside data if it is accessible and merge it with this dataset. I think the model would perform a lot better if it had other metric including Video Length, Thumbnail, Dislikes, Watchtime, Play Rate, Social Shares. These are all things that go into showing whether a video will perform well or not because we know that people can only like a video once but can watch it multiple times. It would also be interesting to use Youtube's free data api to scrape for more data about each of the videos. The addition of this outside data would have gotten rid of the uncertainty and bias of people being able to watch a video multiple times while only being able to like it once. With more time and resources the accuracy for predicting the classification of the video can be improved drastically. "
   ]
  }
 ],
 "metadata": {
  "deepnote": {},
  "deepnote_execution_queue": [],
  "deepnote_notebook_id": "d4b37a6ab5ea4c15949af299ff277c6c",
  "kernelspec": {
   "display_name": "Python 3",
   "language": "python",
   "name": "python3"
  },
  "language_info": {
   "codemirror_mode": {
    "name": "ipython",
    "version": 3
   },
   "file_extension": ".py",
   "mimetype": "text/x-python",
   "name": "python",
   "nbconvert_exporter": "python",
   "pygments_lexer": "ipython3",
   "version": "3.8.8"
  }
 },
 "nbformat": 4,
 "nbformat_minor": 4
}
